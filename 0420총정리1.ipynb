{
 "cells": [
  {
   "cell_type": "markdown",
   "metadata": {},
   "source": [
    "# 파이썬은 기본적으로 인터프리터언어이다.\n",
    "(대화하는 것과 같은 언어)"
   ]
  },
  {
   "cell_type": "code",
   "execution_count": 1,
   "metadata": {},
   "outputs": [
    {
     "name": "stdout",
     "output_type": "stream",
     "text": [
      "안녕\n",
      "안녕\n"
     ]
    }
   ],
   "source": [
    "# \"안녕\"과 '안녕' 모두 가능하다.\n",
    "print(\"안녕\")\n",
    "print('안녕')"
   ]
  },
  {
   "cell_type": "code",
   "execution_count": 3,
   "metadata": {
    "collapsed": true
   },
   "outputs": [],
   "source": [
    "#변수 Ganji와 ganji는 다르다\n",
    "#변수는 소문자 대문자를 구별한다."
   ]
  },
  {
   "cell_type": "code",
   "execution_count": 6,
   "metadata": {},
   "outputs": [
    {
     "name": "stdout",
     "output_type": "stream",
     "text": [
      "L\n",
      "s\n",
      "n\n"
     ]
    },
    {
     "data": {
      "text/plain": [
       "'Life'"
      ]
     },
     "execution_count": 6,
     "metadata": {},
     "output_type": "execute_result"
    }
   ],
   "source": [
    "# 문자열은 자동으로 인덱스가 부여되므로 출력하여 확인가능하다.\n",
    "#(뒤집어서도 가능)\n",
    "\n",
    "s = \"Life is too short, You need Python\"\n",
    "print(s[0])\n",
    "print(s[12])\n",
    "print(s[-1])\n",
    "temp = s[0] + s[1] + s[2] + s[3]\n",
    "temp"
   ]
  },
  {
   "cell_type": "code",
   "execution_count": 11,
   "metadata": {},
   "outputs": [
    {
     "name": "stdout",
     "output_type": "stream",
     "text": [
      "short\n",
      "You need Python\n",
      "You need Python\n",
      "Life is too short\n"
     ]
    }
   ],
   "source": [
    "# a:b(콜론)은 a부터 b전까지의 데이터를 추출해 올때 사용한다.(슬라이싱)\n",
    "print(s[12:17]) #인덱스 12부터 17미만까지\n",
    "\n",
    "##마지막 인덱스까지 쓰고싶으면 뒤를 비우면된다.\n",
    "print(s[19:34])\n",
    "print(s[19:]) #마지막 인덱스까지 쓰고싶으면 뒤에를 비우기\n",
    "print(s[:17])"
   ]
  },
  {
   "cell_type": "code",
   "execution_count": 13,
   "metadata": {},
   "outputs": [
    {
     "name": "stdout",
     "output_type": "stream",
     "text": [
      "Life is too short, You need Python\n"
     ]
    }
   ],
   "source": [
    "#해당인덱스 데이터를 모두 얻어 오고 싶다면 [:]으로 비워도 된다.\n",
    "print(s[:])"
   ]
  },
  {
   "cell_type": "code",
   "execution_count": 17,
   "metadata": {},
   "outputs": [
    {
     "name": "stdout",
     "output_type": "stream",
     "text": [
      "일1\n",
      "일 1\n"
     ]
    }
   ],
   "source": [
    "# 숫자1과 문자열 str(1)은 함께 쓸 수 있다.\n",
    "print(\"일\" + str(1))\n",
    "print(\"일\", 1) #,대신 +를 쓸 수도 있다. 하지만 쓰면 헷갈리니까 쓰지말자."
   ]
  },
  {
   "cell_type": "code",
   "execution_count": 27,
   "metadata": {},
   "outputs": [
    {
     "name": "stdout",
     "output_type": "stream",
     "text": [
      "저는 6학년 2반입니다.\n",
      "저는 3학년 1반입니다.\n",
      "저는 3학년 1반입니다.\n",
      "첫번째 숫자는 11, 두번째 숫자는 22\n",
      "첫번째 숫자는 11, 두번째 숫자는 22\n"
     ]
    }
   ],
   "source": [
    "#%d와 {}.format 대입방법(%d는 더블형의 숫자만 가능하며, {}.format은 모든 형태가 가능하다.\n",
    "#다만 배열과 리스트도 들어가는지는 확인이 필요하다.\n",
    "h = 3\n",
    "b = 1\n",
    "s2 = \"저는 %d학년 %d반입니다.\"%(6,2)\n",
    "print(s2)\n",
    "\n",
    "s3 = \"저는 %d학년 %d반입니다.\"%(h,b)\n",
    "print(s3)\n",
    "\n",
    "s4 = \"저는 {}학년 {}반입니다.\".format(h,b)\n",
    "print(s4)\n",
    "\n",
    "#ex\n",
    "aa = 11\n",
    "bb = 22\n",
    "print(\"첫번째 숫자는 %d, 두번째 숫자는 %d\" %(aa,bb))\n",
    "print(\"첫번째 숫자는 {}, 두번째 숫자는 {}\".format(aa, bb))"
   ]
  },
  {
   "cell_type": "code",
   "execution_count": 25,
   "metadata": {},
   "outputs": [
    {
     "ename": "TypeError",
     "evalue": "unsupported operand type(s) for +: 'int' and 'str'",
     "output_type": "error",
     "traceback": [
      "\u001b[1;31m---------------------------------------------------------------------------\u001b[0m",
      "\u001b[1;31mTypeError\u001b[0m                                 Traceback (most recent call last)",
      "\u001b[1;32m<ipython-input-25-4765671f90bc>\u001b[0m in \u001b[0;36m<module>\u001b[1;34m()\u001b[0m\n\u001b[0;32m      2\u001b[0m \u001b[0mnum1\u001b[0m \u001b[1;33m=\u001b[0m \u001b[1;36m10\u001b[0m\u001b[1;33m\u001b[0m\u001b[0m\n\u001b[0;32m      3\u001b[0m \u001b[0mnum2\u001b[0m \u001b[1;33m=\u001b[0m \u001b[1;34m\"7\"\u001b[0m\u001b[1;33m\u001b[0m\u001b[0m\n\u001b[1;32m----> 4\u001b[1;33m \u001b[0mnum1\u001b[0m\u001b[1;33m+\u001b[0m\u001b[0mnum2\u001b[0m\u001b[1;31m#는 에러\u001b[0m\u001b[1;33m\u001b[0m\u001b[0m\n\u001b[0m",
      "\u001b[1;31mTypeError\u001b[0m: unsupported operand type(s) for +: 'int' and 'str'"
     ]
    }
   ],
   "source": [
    "# 숫자형과 문자형은 더하지 못한다(java는 가능함)\n",
    "num1 = 10\n",
    "num2 = \"7\"\n",
    "num1+num2#는 에러"
   ]
  },
  {
   "cell_type": "markdown",
   "metadata": {},
   "source": [
    "### 강제 형변환\n",
    "Input으로 받은 정보는 문자로 인식하기 때문에\n",
    "Int로 바꾸고 싶으면 강제형변환해야한다\n",
    "\n",
    "###무언가를 입력받고 싶으면 input()함수를 쓰자.\n",
    "다만 이것은 문자열로 받아오므로 숫자라면 int로 강제 형변환을 해줘야 한다."
   ]
  },
  {
   "cell_type": "code",
   "execution_count": null,
   "metadata": {
    "collapsed": true
   },
   "outputs": [],
   "source": [
    "num1 = int(input(\"첫번째 정수 입력 :\"))\n",
    "num2 = int(input(\"두번째 정수 입력 :\"))\n",
    "num1 + num2"
   ]
  },
  {
   "cell_type": "code",
   "execution_count": null,
   "metadata": {
    "collapsed": true
   },
   "outputs": [],
   "source": [
    "# a,b의 값을 서로 바꿀때 파이썬은 temp라는 변수없이 바로 바꿀 수 있다.\n",
    "a = 10\n",
    "b = 20\n",
    "a, b\n",
    "a,b = b,a\n",
    "a, b"
   ]
  },
  {
   "cell_type": "code",
   "execution_count": null,
   "metadata": {
    "collapsed": true
   },
   "outputs": [],
   "source": [
    "# True false를 잘 이용하자.\n",
    "#후에 Bool이라는 것도 있으니 연과지어 기억하자.\n",
    "a = 3\n",
    "b = 10\n",
    "print(a==b)\n",
    "print(a<b)"
   ]
  },
  {
   "cell_type": "markdown",
   "metadata": {},
   "source": [
    "### 조건문(if문):(콜론을 꼭 써줘야한다.)\n",
    "if conditon:\n",
    "    statement1\n",
    "    statement2"
   ]
  },
  {
   "cell_type": "code",
   "execution_count": null,
   "metadata": {
    "collapsed": true
   },
   "outputs": [],
   "source": [
    "#ex_입력받은 숫자가 3과 5의 배수인가 구하시오\n",
    "num = int(input(\"변수 num입력 : \"))\n",
    "if num%3==0 and num%5==0:\n",
    "    print(\"3과 5의 배수입니다.\")"
   ]
  },
  {
   "cell_type": "code",
   "execution_count": null,
   "metadata": {
    "collapsed": true
   },
   "outputs": [],
   "source": [
    "#나머지 연산자는 %이다 헷갈리지 말자\n",
    "num = int(input(\"숫자 입력 : \"))\n",
    "if num%2 == 0:\n",
    "    print(\"{}는 짝수\".format(num))\n",
    "else:\n",
    "    print(\"홀수\")"
   ]
  },
  {
   "cell_type": "markdown",
   "metadata": {},
   "source": [
    "### 조건문(if else if)_조건문은 항상 콜론:을 붙여줘야 한다.\n",
    "\"\"\"\n",
    "if conditon1:\n",
    "    문장1\n",
    "    문장1\n",
    "elif conditon2:\n",
    "    문장2\n",
    "elif conditon3:\n",
    "    문장3\n",
    "    \"\"\""
   ]
  },
  {
   "cell_type": "code",
   "execution_count": null,
   "metadata": {
    "collapsed": true
   },
   "outputs": [],
   "source": [
    "num1 = int(input(\"첫 번째 숫자 입력 : \"))\n",
    "num2 = int(input(\"두 번째 숫자 입력 : \"))\n",
    "\n",
    "if num1 > num2:\n",
    "    print(\"{}은(는) {} 보다 더 크다.\".format(num1,num2))\n",
    "elif num1 == num2:\n",
    "    print(\"{}와(가) {}는(은) 같다.\".format(num1,num2))\n",
    "elif num1 < num2: #else와 같다\n",
    "    print(\"{}은(는) {} 보다 더 작다.\".format(num1,num2))"
   ]
  },
  {
   "cell_type": "markdown",
   "metadata": {},
   "source": [
    "### List"
   ]
  },
  {
   "cell_type": "code",
   "execution_count": null,
   "metadata": {
    "collapsed": true
   },
   "outputs": [],
   "source": [
    "### List\n",
    "\"\"\"\n",
    "[], [1, 3, 5, 7]\n",
    "a = []\n",
    "b = [1, 2, 3]\n",
    "c = ['Life', 'is', 'too', 'short']\n",
    "d = [1, 2, [3,4]] #이건3개\n",
    "\"\"\""
   ]
  },
  {
   "cell_type": "code",
   "execution_count": null,
   "metadata": {
    "collapsed": true
   },
   "outputs": [],
   "source": [
    "array = [2, 5, 7, 9, 10]\n",
    "print(array[2]+array[-1])"
   ]
  },
  {
   "cell_type": "markdown",
   "metadata": {},
   "source": [
    "### List의 슬라이싱"
   ]
  },
  {
   "cell_type": "code",
   "execution_count": null,
   "metadata": {
    "collapsed": true
   },
   "outputs": [],
   "source": [
    "array = [1, 2, 3, ['a', 'b', 'c'], 4, 5]\n",
    "\n",
    "arrayTemp = array[2:5]\n",
    "print(arrayTemp)\n",
    "\n",
    "\n",
    "arrayTemp2 = array[3][0:2]\n",
    "print(arrayTemp2)"
   ]
  },
  {
   "cell_type": "code",
   "execution_count": null,
   "metadata": {
    "collapsed": true
   },
   "outputs": [],
   "source": [
    "# List더하기\n",
    "a = [1, 2, 3]\n",
    "b = [3, 4, 5, 6]\n",
    "a+b = [1, 2, 3, 3, 4, 5, 6]"
   ]
  },
  {
   "cell_type": "markdown",
   "metadata": {},
   "source": [
    "### List요소 삭제하기\n",
    "array = [1, 2, 3, 4, 5]\n",
    "\n",
    "array[1:3] = []\n",
    "del array[1] #del(함수를 이용해 삭제하기)"
   ]
  },
  {
   "cell_type": "code",
   "execution_count": null,
   "metadata": {
    "collapsed": true
   },
   "outputs": [],
   "source": [
    "array = [1, 2, 3, 4, 5]\n",
    "print(array)\n",
    "#print(array[1:3])\n",
    "\n",
    "array[1:3] = []#List요소 삭제하기_방법1\n",
    "del array[1] #List요소 삭제하기_방법2 #del(함수를 이용해 삭제하기)\n",
    "\n",
    "print(array)"
   ]
  },
  {
   "cell_type": "markdown",
   "metadata": {},
   "source": [
    "### array.append(객체)[1:3] = []\n",
    "### .append자체는 덧붙이는 함수인데 여기에 []을 넣음으로써 삭제기능으로 쓸 수 있음.\n",
    "del array[1] #del(함수를 이용해 삭제하기)"
   ]
  },
  {
   "cell_type": "code",
   "execution_count": null,
   "metadata": {
    "collapsed": true
   },
   "outputs": [],
   "source": [
    "array = [1, 2, 3, 4, 5]\n",
    "del array[1]\n",
    "array"
   ]
  },
  {
   "cell_type": "code",
   "execution_count": null,
   "metadata": {
    "collapsed": true
   },
   "outputs": [],
   "source": [
    "array.insert(3, 666)\n",
    "array"
   ]
  }
 ],
 "metadata": {
  "kernelspec": {
   "display_name": "Python 3",
   "language": "python",
   "name": "python3"
  },
  "language_info": {
   "codemirror_mode": {
    "name": "ipython",
    "version": 3
   },
   "file_extension": ".py",
   "mimetype": "text/x-python",
   "name": "python",
   "nbconvert_exporter": "python",
   "pygments_lexer": "ipython3",
   "version": "3.6.3"
  }
 },
 "nbformat": 4,
 "nbformat_minor": 2
}
