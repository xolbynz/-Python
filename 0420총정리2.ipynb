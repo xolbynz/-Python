{
 "cells": [
  {
   "cell_type": "markdown",
   "metadata": {},
   "source": [
    "### array.append(객체)[1:3] = []\n",
    "### .append자체는 덧붙이는 함수인데 여기에 []을 넣음으로써 삭제기능으로 쓸 수 있음.\n",
    "del array[1] #del(함수를 이용해 삭제하기)"
   ]
  },
  {
   "cell_type": "code",
   "execution_count": 1,
   "metadata": {},
   "outputs": [
    {
     "data": {
      "text/plain": [
       "[1, 3, 4, 5]"
      ]
     },
     "execution_count": 1,
     "metadata": {},
     "output_type": "execute_result"
    }
   ],
   "source": [
    "array = [1, 2, 3, 4, 5]\n",
    "del array[1]\n",
    "array"
   ]
  },
  {
   "cell_type": "code",
   "execution_count": 2,
   "metadata": {},
   "outputs": [
    {
     "data": {
      "text/plain": [
       "[1, 3, 4, 666, 5]"
      ]
     },
     "execution_count": 2,
     "metadata": {},
     "output_type": "execute_result"
    }
   ],
   "source": [
    "#List에서.insert()함수로 특정 인덱스에 값을 추가할 수 있다.\n",
    "array.insert(3, 666)\n",
    "array"
   ]
  },
  {
   "cell_type": "code",
   "execution_count": null,
   "metadata": {
    "collapsed": true
   },
   "outputs": [],
   "source": [
    "#List에서.sort()함수는 리스트를 오름차순으로 정리하는 것 이다.\n",
    "array = [5, 8, 1, 9, 4, 2]\n",
    "\n",
    "array.sort() #정렬\n",
    "array"
   ]
  },
  {
   "cell_type": "code",
   "execution_count": 4,
   "metadata": {},
   "outputs": [
    {
     "data": {
      "text/plain": [
       "[5, 4, 3, 2, 1]"
      ]
     },
     "execution_count": 4,
     "metadata": {},
     "output_type": "execute_result"
    }
   ],
   "source": [
    "#List에서.reverse()함수는 리스트의 인자를 반대로 뒤집어 저장하는것이다.\n",
    "array = [1, 2, 3, 4, 5]\n",
    "\n",
    "array.reverse()\n",
    "array"
   ]
  },
  {
   "cell_type": "code",
   "execution_count": 6,
   "metadata": {},
   "outputs": [
    {
     "data": {
      "text/plain": [
       "2"
      ]
     },
     "execution_count": 6,
     "metadata": {},
     "output_type": "execute_result"
    }
   ],
   "source": [
    "# List인자 위치 반환\n",
    "array = ['a', 'b', 'c', 'd', 'e']\n",
    "array.index('c')"
   ]
  },
  {
   "cell_type": "code",
   "execution_count": 8,
   "metadata": {},
   "outputs": [
    {
     "data": {
      "text/plain": [
       "['b', 'c', 'd', 'e']"
      ]
     },
     "execution_count": 8,
     "metadata": {},
     "output_type": "execute_result"
    }
   ],
   "source": [
    "# List 인자 삭제 \n",
    "array = ['a', 'b', 'c', 'd', 'e']\n",
    "array.remove('a')\n",
    "array"
   ]
  },
  {
   "cell_type": "code",
   "execution_count": 10,
   "metadata": {},
   "outputs": [
    {
     "data": {
      "text/plain": [
       "4"
      ]
     },
     "execution_count": 10,
     "metadata": {},
     "output_type": "execute_result"
    }
   ],
   "source": [
    "# List의 인덱스 인자 추출\n",
    "array = [1, 2, 3, 4, 5]\n",
    "\n",
    "array.pop(3)"
   ]
  },
  {
   "cell_type": "markdown",
   "metadata": {},
   "source": [
    "### Tuple사용(읽기전용, 수정불가능)\n",
    "튜플명 = (요소1,요소2, ...)"
   ]
  },
  {
   "cell_type": "markdown",
   "metadata": {},
   "source": [
    "### 반복문(while_break/for)\n",
    "while 조건문: #1\n",
    "    문장1 #2\n",
    "    문장2 #3\n",
    "    1T > 2 > 1T > 2 > 1F > 3\n",
    "    while은 정확하게 몇 번 반복해야 할 지 정해지지 않은 경우에 사용."
   ]
  },
  {
   "cell_type": "code",
   "execution_count": 16,
   "metadata": {},
   "outputs": [
    {
     "name": "stdout",
     "output_type": "stream",
     "text": [
      "정수 입력 : 1\n",
      "정수 입력 : 2\n",
      "정수 입력 : 3\n",
      "정수 입력 : 4\n",
      "정수 입력 : 5\n",
      "정수 입력 : 6\n",
      "정수 입력 : 7\n",
      "정수 입력 : 8\n",
      "정수 입력 : 9\n",
      "정수 입력 : 10\n",
      "종료되었습니다.\n"
     ]
    }
   ],
   "source": [
    "num = 0\n",
    "\n",
    "while True < 10:\n",
    "    num = int(input(\"정수 입력 : \"))\n",
    "    \n",
    "    if num >= 10:\n",
    "        break\n",
    "print(\"종료되었습니다.\")"
   ]
  },
  {
   "cell_type": "code",
   "execution_count": 18,
   "metadata": {
    "collapsed": true
   },
   "outputs": [],
   "source": [
    "#랜덤 숫자 맞추기 게임(1~50)\n",
    "import random as ran"
   ]
  },
  {
   "cell_type": "code",
   "execution_count": 20,
   "metadata": {},
   "outputs": [
    {
     "data": {
      "text/plain": [
       "26"
      ]
     },
     "execution_count": 20,
     "metadata": {},
     "output_type": "execute_result"
    }
   ],
   "source": [
    "num = ran.randint(1, 50) #random.randint 랜덤으로 인트값을 받아오는 함수\n",
    "num"
   ]
  },
  {
   "cell_type": "code",
   "execution_count": null,
   "metadata": {},
   "outputs": [],
   "source": [
    "#랜덤 숫자 맞추기 게임(1~50)\n",
    "import random as ran\n",
    "num = ran.randint(1, 50) \n",
    "i = 0\n",
    "print(num)\n",
    "while True:\n",
    "    a = int(input(\"숫자를 입력하세요. : \"))\n",
    "    i += 1\n",
    "    \n",
    "    if (a > num):\n",
    "        print(\"%d보다 작은 수 입니다.\"%a)\n",
    "    \n",
    "    elif (a < num):\n",
    "        print(\"%d보다 큰 수 입니다.\"%a)\n",
    "    \n",
    "    else:\n",
    "        print(\" %d번만에 맞추셨습니다.\"%i)\n",
    "        break"
   ]
  },
  {
   "cell_type": "code",
   "execution_count": null,
   "metadata": {
    "collapsed": true
   },
   "outputs": [],
   "source": [
    "#다이어트관리 프로그램_방법1\n",
    "preWeight = int(input(\"현재몸무게 : \"))\n",
    "goalWeight = int(input(\"목표몸무게 : \"))\n",
    "i = 0\n",
    "\n",
    "while True:\n",
    "    i += 1\n",
    "    loseWeight = int(input(\"{}주차 감량몸무게 : \".format(i)))\n",
    "    preWeight -= loseWeight\n",
    "    \n",
    "    if (preWeight <= goalWeight):\n",
    "        print(\"{}kg 달성!! 축하합니다!\".format(goalWeight))\n",
    "        break\n",
    "        "
   ]
  },
  {
   "cell_type": "markdown",
   "metadata": {},
   "source": [
    "### for 변수 range(시작값, 종료값, 증가):\n",
    "#시작지점이 0이고, 1씩 증가라고 하면 range(11)이라고 해도 무방"
   ]
  },
  {
   "cell_type": "code",
   "execution_count": null,
   "metadata": {
    "collapsed": true
   },
   "outputs": [],
   "source": [
    "for i in range(5):\n",
    "    print(\"안녕하세요\")"
   ]
  },
  {
   "cell_type": "code",
   "execution_count": null,
   "metadata": {
    "collapsed": true
   },
   "outputs": [],
   "source": [
    "#Q1.(pt24)정수일력받아 0~a까지 나오게\n",
    "num = int(input(\"정수를 입력하세요.\"))\n",
    "i = 0\n",
    "\n",
    "for i in range(0, num, 1):\n",
    "    i += 1\n",
    "    print(i, end=\" \")"
   ]
  },
  {
   "cell_type": "code",
   "execution_count": null,
   "metadata": {
    "collapsed": true
   },
   "outputs": [],
   "source": [
    "#Q2.(pt26)정1~100까지의 3배수의 합을 출력하세요.\n",
    "i = 0\n",
    "sum = 0\n",
    "for a in range(0, 101):\n",
    "    i += 1\n",
    "    if(i % 3 ==0):\n",
    "        sum += a\n",
    "        print (sum)\n",
    "        "
   ]
  },
  {
   "cell_type": "code",
   "execution_count": null,
   "metadata": {
    "collapsed": true
   },
   "outputs": [],
   "source": [
    "#피보나치수열 사용\n",
    "num = int(input(\"정수 n을 입력하시오 : \"))\n",
    "\n",
    "for i in range(0, num+2, 1):\n",
    "    if fib(i) <= num:\n",
    "        print(\"%d\"%fib(i))"
   ]
  }
 ],
 "metadata": {
  "kernelspec": {
   "display_name": "Python 3",
   "language": "python",
   "name": "python3"
  },
  "language_info": {
   "codemirror_mode": {
    "name": "ipython",
    "version": 3
   },
   "file_extension": ".py",
   "mimetype": "text/x-python",
   "name": "python",
   "nbconvert_exporter": "python",
   "pygments_lexer": "ipython3",
   "version": "3.6.3"
  }
 },
 "nbformat": 4,
 "nbformat_minor": 2
}
