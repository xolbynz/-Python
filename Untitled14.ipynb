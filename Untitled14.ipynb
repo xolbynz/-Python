{
 "cells": [
  {
   "cell_type": "code",
   "execution_count": 1,
   "metadata": {
    "collapsed": true
   },
   "outputs": [],
   "source": [
    "import numpy as py\n",
    "import pandas as pd\n",
    "import matplotlib.pyplot as plt\n",
    "import seaborn as sns\n",
    "%matplotlib inline\n",
    "from sklearn.cluster import KMeans,DBSCAN\n",
    "from sklearn.cluster import AgglomerativeClustering\n"
   ]
  },
  {
   "cell_type": "code",
   "execution_count": 2,
   "metadata": {
    "scrolled": true
   },
   "outputs": [
    {
     "data": {
      "text/html": [
       "<div>\n",
       "<style>\n",
       "    .dataframe thead tr:only-child th {\n",
       "        text-align: right;\n",
       "    }\n",
       "\n",
       "    .dataframe thead th {\n",
       "        text-align: left;\n",
       "    }\n",
       "\n",
       "    .dataframe tbody tr th {\n",
       "        vertical-align: top;\n",
       "    }\n",
       "</style>\n",
       "<table border=\"1\" class=\"dataframe\">\n",
       "  <thead>\n",
       "    <tr style=\"text-align: right;\">\n",
       "      <th></th>\n",
       "      <th>0</th>\n",
       "      <th>1</th>\n",
       "    </tr>\n",
       "  </thead>\n",
       "  <tbody>\n",
       "    <tr>\n",
       "      <th>0</th>\n",
       "      <td>0.816805</td>\n",
       "      <td>0.521645</td>\n",
       "    </tr>\n",
       "    <tr>\n",
       "      <th>1</th>\n",
       "      <td>1.618596</td>\n",
       "      <td>-0.379829</td>\n",
       "    </tr>\n",
       "    <tr>\n",
       "      <th>2</th>\n",
       "      <td>-0.021270</td>\n",
       "      <td>0.273728</td>\n",
       "    </tr>\n",
       "    <tr>\n",
       "      <th>3</th>\n",
       "      <td>-1.021810</td>\n",
       "      <td>-0.075440</td>\n",
       "    </tr>\n",
       "    <tr>\n",
       "      <th>4</th>\n",
       "      <td>1.766546</td>\n",
       "      <td>-0.170699</td>\n",
       "    </tr>\n",
       "    <tr>\n",
       "      <th>5</th>\n",
       "      <td>1.882029</td>\n",
       "      <td>-0.042384</td>\n",
       "    </tr>\n",
       "    <tr>\n",
       "      <th>6</th>\n",
       "      <td>0.974816</td>\n",
       "      <td>0.209994</td>\n",
       "    </tr>\n",
       "    <tr>\n",
       "      <th>7</th>\n",
       "      <td>0.887988</td>\n",
       "      <td>-0.489367</td>\n",
       "    </tr>\n",
       "    <tr>\n",
       "      <th>8</th>\n",
       "      <td>0.898652</td>\n",
       "      <td>0.366378</td>\n",
       "    </tr>\n",
       "    <tr>\n",
       "      <th>9</th>\n",
       "      <td>1.116390</td>\n",
       "      <td>-0.534604</td>\n",
       "    </tr>\n",
       "    <tr>\n",
       "      <th>10</th>\n",
       "      <td>-0.363800</td>\n",
       "      <td>0.827902</td>\n",
       "    </tr>\n",
       "    <tr>\n",
       "      <th>11</th>\n",
       "      <td>0.247024</td>\n",
       "      <td>-0.238567</td>\n",
       "    </tr>\n",
       "    <tr>\n",
       "      <th>12</th>\n",
       "      <td>1.816587</td>\n",
       "      <td>-0.130884</td>\n",
       "    </tr>\n",
       "    <tr>\n",
       "      <th>13</th>\n",
       "      <td>1.216391</td>\n",
       "      <td>-0.406858</td>\n",
       "    </tr>\n",
       "    <tr>\n",
       "      <th>14</th>\n",
       "      <td>-0.823670</td>\n",
       "      <td>0.642352</td>\n",
       "    </tr>\n",
       "    <tr>\n",
       "      <th>15</th>\n",
       "      <td>0.980656</td>\n",
       "      <td>0.208508</td>\n",
       "    </tr>\n",
       "    <tr>\n",
       "      <th>16</th>\n",
       "      <td>0.540972</td>\n",
       "      <td>0.886168</td>\n",
       "    </tr>\n",
       "    <tr>\n",
       "      <th>17</th>\n",
       "      <td>0.348031</td>\n",
       "      <td>-0.301014</td>\n",
       "    </tr>\n",
       "    <tr>\n",
       "      <th>18</th>\n",
       "      <td>0.351815</td>\n",
       "      <td>0.888278</td>\n",
       "    </tr>\n",
       "    <tr>\n",
       "      <th>19</th>\n",
       "      <td>-0.777086</td>\n",
       "      <td>0.822539</td>\n",
       "    </tr>\n",
       "    <tr>\n",
       "      <th>20</th>\n",
       "      <td>1.925908</td>\n",
       "      <td>0.012141</td>\n",
       "    </tr>\n",
       "    <tr>\n",
       "      <th>21</th>\n",
       "      <td>0.860967</td>\n",
       "      <td>-0.476532</td>\n",
       "    </tr>\n",
       "    <tr>\n",
       "      <th>22</th>\n",
       "      <td>0.199907</td>\n",
       "      <td>0.996724</td>\n",
       "    </tr>\n",
       "    <tr>\n",
       "      <th>23</th>\n",
       "      <td>1.289530</td>\n",
       "      <td>-0.370711</td>\n",
       "    </tr>\n",
       "    <tr>\n",
       "      <th>24</th>\n",
       "      <td>-0.278476</td>\n",
       "      <td>1.025385</td>\n",
       "    </tr>\n",
       "    <tr>\n",
       "      <th>25</th>\n",
       "      <td>0.241879</td>\n",
       "      <td>-0.076278</td>\n",
       "    </tr>\n",
       "    <tr>\n",
       "      <th>26</th>\n",
       "      <td>1.849888</td>\n",
       "      <td>-0.097737</td>\n",
       "    </tr>\n",
       "    <tr>\n",
       "      <th>27</th>\n",
       "      <td>1.884069</td>\n",
       "      <td>0.044940</td>\n",
       "    </tr>\n",
       "    <tr>\n",
       "      <th>28</th>\n",
       "      <td>0.165822</td>\n",
       "      <td>-0.086131</td>\n",
       "    </tr>\n",
       "    <tr>\n",
       "      <th>29</th>\n",
       "      <td>0.138614</td>\n",
       "      <td>0.896390</td>\n",
       "    </tr>\n",
       "    <tr>\n",
       "      <th>...</th>\n",
       "      <td>...</td>\n",
       "      <td>...</td>\n",
       "    </tr>\n",
       "    <tr>\n",
       "      <th>170</th>\n",
       "      <td>0.614003</td>\n",
       "      <td>0.838338</td>\n",
       "    </tr>\n",
       "    <tr>\n",
       "      <th>171</th>\n",
       "      <td>-1.071398</td>\n",
       "      <td>0.026693</td>\n",
       "    </tr>\n",
       "    <tr>\n",
       "      <th>172</th>\n",
       "      <td>-0.913090</td>\n",
       "      <td>0.526264</td>\n",
       "    </tr>\n",
       "    <tr>\n",
       "      <th>173</th>\n",
       "      <td>-0.748245</td>\n",
       "      <td>0.518237</td>\n",
       "    </tr>\n",
       "    <tr>\n",
       "      <th>174</th>\n",
       "      <td>0.146882</td>\n",
       "      <td>0.029720</td>\n",
       "    </tr>\n",
       "    <tr>\n",
       "      <th>175</th>\n",
       "      <td>0.943620</td>\n",
       "      <td>-0.448294</td>\n",
       "    </tr>\n",
       "    <tr>\n",
       "      <th>176</th>\n",
       "      <td>1.844898</td>\n",
       "      <td>0.406019</td>\n",
       "    </tr>\n",
       "    <tr>\n",
       "      <th>177</th>\n",
       "      <td>-0.668273</td>\n",
       "      <td>0.690857</td>\n",
       "    </tr>\n",
       "    <tr>\n",
       "      <th>178</th>\n",
       "      <td>-0.736242</td>\n",
       "      <td>0.599519</td>\n",
       "    </tr>\n",
       "    <tr>\n",
       "      <th>179</th>\n",
       "      <td>0.601465</td>\n",
       "      <td>0.725517</td>\n",
       "    </tr>\n",
       "    <tr>\n",
       "      <th>180</th>\n",
       "      <td>1.474377</td>\n",
       "      <td>-0.375410</td>\n",
       "    </tr>\n",
       "    <tr>\n",
       "      <th>181</th>\n",
       "      <td>-0.887600</td>\n",
       "      <td>0.508645</td>\n",
       "    </tr>\n",
       "    <tr>\n",
       "      <th>182</th>\n",
       "      <td>1.928922</td>\n",
       "      <td>0.182018</td>\n",
       "    </tr>\n",
       "    <tr>\n",
       "      <th>183</th>\n",
       "      <td>1.786734</td>\n",
       "      <td>-0.274707</td>\n",
       "    </tr>\n",
       "    <tr>\n",
       "      <th>184</th>\n",
       "      <td>1.951302</td>\n",
       "      <td>0.265745</td>\n",
       "    </tr>\n",
       "    <tr>\n",
       "      <th>185</th>\n",
       "      <td>0.334717</td>\n",
       "      <td>0.980571</td>\n",
       "    </tr>\n",
       "    <tr>\n",
       "      <th>186</th>\n",
       "      <td>-0.168847</td>\n",
       "      <td>0.892064</td>\n",
       "    </tr>\n",
       "    <tr>\n",
       "      <th>187</th>\n",
       "      <td>0.770640</td>\n",
       "      <td>-0.517503</td>\n",
       "    </tr>\n",
       "    <tr>\n",
       "      <th>188</th>\n",
       "      <td>-0.887005</td>\n",
       "      <td>0.366964</td>\n",
       "    </tr>\n",
       "    <tr>\n",
       "      <th>189</th>\n",
       "      <td>-0.628865</td>\n",
       "      <td>0.790872</td>\n",
       "    </tr>\n",
       "    <tr>\n",
       "      <th>190</th>\n",
       "      <td>-0.930068</td>\n",
       "      <td>0.387549</td>\n",
       "    </tr>\n",
       "    <tr>\n",
       "      <th>191</th>\n",
       "      <td>0.424479</td>\n",
       "      <td>0.932688</td>\n",
       "    </tr>\n",
       "    <tr>\n",
       "      <th>192</th>\n",
       "      <td>0.808614</td>\n",
       "      <td>0.535999</td>\n",
       "    </tr>\n",
       "    <tr>\n",
       "      <th>193</th>\n",
       "      <td>0.940009</td>\n",
       "      <td>0.271114</td>\n",
       "    </tr>\n",
       "    <tr>\n",
       "      <th>194</th>\n",
       "      <td>-0.016092</td>\n",
       "      <td>0.373696</td>\n",
       "    </tr>\n",
       "    <tr>\n",
       "      <th>195</th>\n",
       "      <td>-0.536334</td>\n",
       "      <td>0.860268</td>\n",
       "    </tr>\n",
       "    <tr>\n",
       "      <th>196</th>\n",
       "      <td>1.882817</td>\n",
       "      <td>0.244356</td>\n",
       "    </tr>\n",
       "    <tr>\n",
       "      <th>197</th>\n",
       "      <td>0.175752</td>\n",
       "      <td>-0.007231</td>\n",
       "    </tr>\n",
       "    <tr>\n",
       "      <th>198</th>\n",
       "      <td>0.124236</td>\n",
       "      <td>1.007902</td>\n",
       "    </tr>\n",
       "    <tr>\n",
       "      <th>199</th>\n",
       "      <td>1.621526</td>\n",
       "      <td>-0.223285</td>\n",
       "    </tr>\n",
       "  </tbody>\n",
       "</table>\n",
       "<p>200 rows × 2 columns</p>\n",
       "</div>"
      ],
      "text/plain": [
       "            0         1\n",
       "0    0.816805  0.521645\n",
       "1    1.618596 -0.379829\n",
       "2   -0.021270  0.273728\n",
       "3   -1.021810 -0.075440\n",
       "4    1.766546 -0.170699\n",
       "5    1.882029 -0.042384\n",
       "6    0.974816  0.209994\n",
       "7    0.887988 -0.489367\n",
       "8    0.898652  0.366378\n",
       "9    1.116390 -0.534604\n",
       "10  -0.363800  0.827902\n",
       "11   0.247024 -0.238567\n",
       "12   1.816587 -0.130884\n",
       "13   1.216391 -0.406858\n",
       "14  -0.823670  0.642352\n",
       "15   0.980656  0.208508\n",
       "16   0.540972  0.886168\n",
       "17   0.348031 -0.301014\n",
       "18   0.351815  0.888278\n",
       "19  -0.777086  0.822539\n",
       "20   1.925908  0.012141\n",
       "21   0.860967 -0.476532\n",
       "22   0.199907  0.996724\n",
       "23   1.289530 -0.370711\n",
       "24  -0.278476  1.025385\n",
       "25   0.241879 -0.076278\n",
       "26   1.849888 -0.097737\n",
       "27   1.884069  0.044940\n",
       "28   0.165822 -0.086131\n",
       "29   0.138614  0.896390\n",
       "..        ...       ...\n",
       "170  0.614003  0.838338\n",
       "171 -1.071398  0.026693\n",
       "172 -0.913090  0.526264\n",
       "173 -0.748245  0.518237\n",
       "174  0.146882  0.029720\n",
       "175  0.943620 -0.448294\n",
       "176  1.844898  0.406019\n",
       "177 -0.668273  0.690857\n",
       "178 -0.736242  0.599519\n",
       "179  0.601465  0.725517\n",
       "180  1.474377 -0.375410\n",
       "181 -0.887600  0.508645\n",
       "182  1.928922  0.182018\n",
       "183  1.786734 -0.274707\n",
       "184  1.951302  0.265745\n",
       "185  0.334717  0.980571\n",
       "186 -0.168847  0.892064\n",
       "187  0.770640 -0.517503\n",
       "188 -0.887005  0.366964\n",
       "189 -0.628865  0.790872\n",
       "190 -0.930068  0.387549\n",
       "191  0.424479  0.932688\n",
       "192  0.808614  0.535999\n",
       "193  0.940009  0.271114\n",
       "194 -0.016092  0.373696\n",
       "195 -0.536334  0.860268\n",
       "196  1.882817  0.244356\n",
       "197  0.175752 -0.007231\n",
       "198  0.124236  1.007902\n",
       "199  1.621526 -0.223285\n",
       "\n",
       "[200 rows x 2 columns]"
      ]
     },
     "execution_count": 2,
     "metadata": {},
     "output_type": "execute_result"
    }
   ],
   "source": [
    "df= pd.read_csv('ex04_moons_data.csv',header=-1)\n",
    "df"
   ]
  },
  {
   "cell_type": "code",
   "execution_count": 3,
   "metadata": {},
   "outputs": [
    {
     "data": {
      "text/plain": [
       "<matplotlib.collections.PathCollection at 0x1bd041d0>"
      ]
     },
     "execution_count": 3,
     "metadata": {},
     "output_type": "execute_result"
    },
    {
     "data": {
      "image/png": "[encoded data removed]",
      "text/plain": [
       "<matplotlib.figure.Figure at 0x1b9a9c50>"
      ]
     },
     "metadata": {},
     "output_type": "display_data"
    }
   ],
   "source": [
    "plt.scatter(x=df[0], y=df[1])"
   ]
  },
  {
   "cell_type": "code",
   "execution_count": 4,
   "metadata": {
    "collapsed": true
   },
   "outputs": [],
   "source": [
    "model=KMeans(n_clusters=10)"
   ]
  },
  {
   "cell_type": "code",
   "execution_count": 5,
   "metadata": {},
   "outputs": [
    {
     "data": {
      "text/plain": [
       "KMeans(algorithm='auto', copy_x=True, init='k-means++', max_iter=300,\n",
       "    n_clusters=10, n_init=10, n_jobs=1, precompute_distances='auto',\n",
       "    random_state=None, tol=0.0001, verbose=0)"
      ]
     },
     "execution_count": 5,
     "metadata": {},
     "output_type": "execute_result"
    }
   ],
   "source": [
    "model.fit(df)"
   ]
  },
  {
   "cell_type": "code",
   "execution_count": 6,
   "metadata": {},
   "outputs": [
    {
     "data": {
      "text/plain": [
       "array([8, 1, 0, 6, 1, 1, 8, 7, 8, 7, 2, 4, 1, 7, 2, 8, 3, 4, 3, 2, 9, 7, 5,\n",
       "       7, 5, 0, 1, 9, 0, 5, 8, 5, 7, 0, 3, 9, 4, 8, 6, 0, 4, 2, 3, 0, 1, 5,\n",
       "       8, 2, 0, 7, 2, 4, 9, 6, 7, 3, 3, 7, 3, 5, 4, 6, 1, 8, 7, 6, 5, 1, 5,\n",
       "       6, 4, 6, 4, 5, 4, 6, 0, 8, 3, 4, 9, 5, 4, 9, 0, 5, 8, 5, 4, 9, 3, 8,\n",
       "       9, 2, 9, 1, 1, 4, 6, 0, 7, 9, 5, 8, 6, 0, 6, 2, 1, 3, 2, 5, 5, 6, 8,\n",
       "       7, 3, 9, 4, 8, 8, 2, 0, 5, 0, 2, 8, 0, 7, 9, 8, 2, 6, 0, 7, 1, 7, 6,\n",
       "       9, 8, 0, 0, 3, 5, 2, 8, 0, 7, 3, 0, 4, 1, 8, 3, 4, 5, 7, 4, 3, 3, 0,\n",
       "       7, 3, 1, 4, 1, 3, 4, 1, 7, 3, 6, 6, 2, 0, 7, 9, 2, 2, 3, 1, 6, 9, 1,\n",
       "       9, 3, 5, 4, 6, 2, 6, 3, 8, 8, 0, 2, 9, 0, 5, 1])"
      ]
     },
     "execution_count": 6,
     "metadata": {},
     "output_type": "execute_result"
    }
   ],
   "source": [
    "model.labels_"
   ]
  },
  {
   "cell_type": "code",
   "execution_count": 7,
   "metadata": {
    "collapsed": true
   },
   "outputs": [],
   "source": [
    "df[\"label\"]=model.labels_"
   ]
  },
  {
   "cell_type": "code",
   "execution_count": 15,
   "metadata": {},
   "outputs": [
    {
     "data": {
      "text/plain": [
       "<seaborn.axisgrid.PairGrid at 0x1c1e1438>"
      ]
     },
     "execution_count": 15,
     "metadata": {},
     "output_type": "execute_result"
    },
    {
     "data": {
      "image/png": "[encoded data removed]",
      "text/plain": [
       "<matplotlib.figure.Figure at 0x1cad97f0>"
      ]
     },
     "metadata": {},
     "output_type": "display_data"
    }
   ],
   "source": [
    "sns.pairplot(data=df,hue=\"label\",x_vars=0, y_vars=1,size=5)"
   ]
  },
  {
   "cell_type": "code",
   "execution_count": 13,
   "metadata": {
    "collapsed": true
   },
   "outputs": [],
   "source": [
    "model=DBSCAN(eps=0.25,min_samples=5)#eps반지름 , min_samples 동그라미에 몇게 들어올꺼냐"
   ]
  },
  {
   "cell_type": "code",
   "execution_count": 14,
   "metadata": {},
   "outputs": [
    {
     "data": {
      "text/plain": [
       "DBSCAN(algorithm='auto', eps=0.25, leaf_size=30, metric='euclidean',\n",
       "    metric_params=None, min_samples=5, n_jobs=1, p=None)"
      ]
     },
     "execution_count": 14,
     "metadata": {},
     "output_type": "execute_result"
    }
   ],
   "source": [
    "model.fit(df)"
   ]
  },
  {
   "cell_type": "code",
   "execution_count": 15,
   "metadata": {
    "scrolled": true
   },
   "outputs": [
    {
     "data": {
      "text/plain": [
       "array([0, 1, 1, 0, 1, 1, 0, 1, 0, 1, 0, 1, 1, 1, 0, 0, 0, 1, 0, 0, 1, 1, 0,\n",
       "       1, 0, 1, 1, 1, 1, 0, 0, 0, 1, 1, 0, 1, 1, 0, 0, 1, 1, 0, 0, 1, 1, 0,\n",
       "       0, 0, 1, 1, 0, 1, 1, 0, 1, 0, 0, 1, 0, 0, 1, 0, 1, 0, 1, 0, 0, 1, 0,\n",
       "       0, 1, 0, 1, 1, 1, 0, 1, 0, 0, 1, 1, 0, 1, 1, 1, 0, 0, 0, 1, 1, 0, 0,\n",
       "       1, 0, 1, 1, 1, 1, 0, 1, 1, 1, 0, 0, 0, 1, 0, 0, 1, 0, 0, 0, 0, 0, 0,\n",
       "       1, 0, 1, 1, 0, 0, 0, 1, 0, 1, 0, 0, 1, 1, 1, 0, 0, 0, 1, 1, 1, 1, 0,\n",
       "       1, 0, 1, 1, 0, 0, 0, 0, 1, 1, 0, 1, 1, 1, 0, 0, 1, 0, 1, 1, 0, 0, 1,\n",
       "       1, 0, 1, 1, 1, 0, 1, 1, 1, 0, 0, 0, 0, 1, 1, 1, 0, 0, 0, 1, 0, 1, 1,\n",
       "       1, 0, 0, 1, 0, 0, 0, 0, 0, 0, 1, 0, 1, 1, 0, 1], dtype=int64)"
      ]
     },
     "execution_count": 15,
     "metadata": {},
     "output_type": "execute_result"
    }
   ],
   "source": [
    "model.labels_"
   ]
  },
  {
   "cell_type": "code",
   "execution_count": 16,
   "metadata": {
    "collapsed": true
   },
   "outputs": [],
   "source": [
    "df[\"label\"]=model.labels_"
   ]
  },
  {
   "cell_type": "code",
   "execution_count": 17,
   "metadata": {},
   "outputs": [
    {
     "data": {
      "text/plain": [
       "<seaborn.axisgrid.PairGrid at 0x1c21a438>"
      ]
     },
     "execution_count": 17,
     "metadata": {},
     "output_type": "execute_result"
    },
    {
     "data": {
      "image/png": "[encoded data removed]",
      "text/plain": [
       "<matplotlib.figure.Figure at 0x1c21cf60>"
      ]
     },
     "metadata": {},
     "output_type": "display_data"
    }
   ],
   "source": [
    "sns.pairplot(data=df,hue=\"label\",x_vars=0, y_vars=1,size=5)"
   ]
  },
  {
   "cell_type": "code",
   "execution_count": 20,
   "metadata": {
    "collapsed": true
   },
   "outputs": [],
   "source": [
    "model_ag=AgglomerativeClustering()"
   ]
  },
  {
   "cell_type": "code",
   "execution_count": 21,
   "metadata": {},
   "outputs": [
    {
     "data": {
      "text/plain": [
       "AgglomerativeClustering(affinity='euclidean', compute_full_tree='auto',\n",
       "            connectivity=None, linkage='ward', memory=None, n_clusters=2,\n",
       "            pooling_func=<function mean at 0x0000000005A9ED08>)"
      ]
     },
     "execution_count": 21,
     "metadata": {},
     "output_type": "execute_result"
    }
   ],
   "source": [
    "model_ag.fit(df)"
   ]
  },
  {
   "cell_type": "code",
   "execution_count": 22,
   "metadata": {},
   "outputs": [
    {
     "data": {
      "text/plain": [
       "array([0, 1, 1, 0, 1, 1, 0, 1, 0, 1, 0, 1, 1, 1, 0, 0, 0, 1, 0, 0, 1, 1, 0,\n",
       "       1, 0, 1, 1, 1, 1, 0, 0, 0, 1, 1, 0, 1, 1, 0, 0, 1, 1, 0, 0, 1, 1, 0,\n",
       "       0, 0, 1, 1, 0, 1, 1, 0, 1, 0, 0, 1, 0, 0, 1, 0, 1, 0, 1, 0, 0, 1, 0,\n",
       "       0, 1, 0, 1, 1, 1, 0, 1, 0, 0, 1, 1, 0, 1, 1, 1, 0, 0, 0, 1, 1, 0, 0,\n",
       "       1, 0, 1, 1, 1, 1, 0, 1, 1, 1, 0, 0, 0, 1, 0, 0, 1, 0, 0, 0, 0, 0, 0,\n",
       "       1, 0, 1, 1, 0, 0, 0, 1, 0, 1, 0, 0, 1, 1, 1, 0, 0, 0, 1, 1, 1, 1, 0,\n",
       "       1, 0, 1, 1, 0, 0, 0, 0, 1, 1, 0, 1, 1, 1, 0, 0, 1, 0, 1, 1, 0, 0, 1,\n",
       "       1, 0, 1, 1, 1, 0, 1, 1, 1, 0, 0, 0, 0, 1, 1, 1, 0, 0, 0, 1, 0, 1, 1,\n",
       "       1, 0, 0, 1, 0, 0, 0, 0, 0, 0, 1, 0, 1, 1, 0, 1], dtype=int64)"
      ]
     },
     "execution_count": 22,
     "metadata": {},
     "output_type": "execute_result"
    }
   ],
   "source": [
    "model.labels_"
   ]
  },
  {
   "cell_type": "code",
   "execution_count": 23,
   "metadata": {
    "collapsed": true
   },
   "outputs": [],
   "source": [
    "df[\"label\"]=model.labels_"
   ]
  },
  {
   "cell_type": "code",
   "execution_count": 24,
   "metadata": {},
   "outputs": [
    {
     "data": {
      "text/plain": [
       "<seaborn.axisgrid.PairGrid at 0x1c3e7518>"
      ]
     },
     "execution_count": 24,
     "metadata": {},
     "output_type": "execute_result"
    },
    {
     "data": {
      "image/png": "[encoded data removed]",
      "text/plain": [
       "<matplotlib.figure.Figure at 0x1c3e7208>"
      ]
     },
     "metadata": {},
     "output_type": "display_data"
    }
   ],
   "source": [
    "sns.pairplot(data=df,hue=\"label\",x_vars=0, y_vars=1,size=5)"
   ]
  },
  {
   "cell_type": "markdown",
   "metadata": {},
   "source": [
    "# Enlongted"
   ]
  },
  {
   "cell_type": "code",
   "execution_count": 2,
   "metadata": {
    "scrolled": true
   },
   "outputs": [],
   "source": [
    "date=pd.read_csv('ex04_elongated_data.csv',header=-1)"
   ]
  },
  {
   "cell_type": "code",
   "execution_count": 3,
   "metadata": {},
   "outputs": [
    {
     "data": {
      "text/html": [
       "<div>\n",
       "<style>\n",
       "    .dataframe thead tr:only-child th {\n",
       "        text-align: right;\n",
       "    }\n",
       "\n",
       "    .dataframe thead th {\n",
       "        text-align: left;\n",
       "    }\n",
       "\n",
       "    .dataframe tbody tr th {\n",
       "        vertical-align: top;\n",
       "    }\n",
       "</style>\n",
       "<table border=\"1\" class=\"dataframe\">\n",
       "  <thead>\n",
       "    <tr style=\"text-align: right;\">\n",
       "      <th></th>\n",
       "      <th>0</th>\n",
       "      <th>1</th>\n",
       "    </tr>\n",
       "  </thead>\n",
       "  <tbody>\n",
       "    <tr>\n",
       "      <th>0</th>\n",
       "      <td>-2.813086</td>\n",
       "      <td>2.569348</td>\n",
       "    </tr>\n",
       "    <tr>\n",
       "      <th>1</th>\n",
       "      <td>-2.231062</td>\n",
       "      <td>2.102220</td>\n",
       "    </tr>\n",
       "    <tr>\n",
       "      <th>2</th>\n",
       "      <td>-2.679970</td>\n",
       "      <td>-0.161424</td>\n",
       "    </tr>\n",
       "    <tr>\n",
       "      <th>3</th>\n",
       "      <td>-2.764727</td>\n",
       "      <td>3.112637</td>\n",
       "    </tr>\n",
       "    <tr>\n",
       "      <th>4</th>\n",
       "      <td>-3.580235</td>\n",
       "      <td>3.893048</td>\n",
       "    </tr>\n",
       "    <tr>\n",
       "      <th>5</th>\n",
       "      <td>-3.780327</td>\n",
       "      <td>3.622419</td>\n",
       "    </tr>\n",
       "    <tr>\n",
       "      <th>6</th>\n",
       "      <td>-3.762854</td>\n",
       "      <td>1.303312</td>\n",
       "    </tr>\n",
       "    <tr>\n",
       "      <th>7</th>\n",
       "      <td>-2.743381</td>\n",
       "      <td>3.030184</td>\n",
       "    </tr>\n",
       "    <tr>\n",
       "      <th>8</th>\n",
       "      <td>-3.536745</td>\n",
       "      <td>1.959006</td>\n",
       "    </tr>\n",
       "    <tr>\n",
       "      <th>9</th>\n",
       "      <td>1.062795</td>\n",
       "      <td>-0.467419</td>\n",
       "    </tr>\n",
       "    <tr>\n",
       "      <th>10</th>\n",
       "      <td>-2.191274</td>\n",
       "      <td>2.044874</td>\n",
       "    </tr>\n",
       "    <tr>\n",
       "      <th>11</th>\n",
       "      <td>-2.473546</td>\n",
       "      <td>2.635734</td>\n",
       "    </tr>\n",
       "    <tr>\n",
       "      <th>12</th>\n",
       "      <td>-3.290220</td>\n",
       "      <td>1.011851</td>\n",
       "    </tr>\n",
       "    <tr>\n",
       "      <th>13</th>\n",
       "      <td>-2.449400</td>\n",
       "      <td>2.460569</td>\n",
       "    </tr>\n",
       "    <tr>\n",
       "      <th>14</th>\n",
       "      <td>1.852888</td>\n",
       "      <td>-1.850397</td>\n",
       "    </tr>\n",
       "    <tr>\n",
       "      <th>15</th>\n",
       "      <td>-1.575879</td>\n",
       "      <td>1.060324</td>\n",
       "    </tr>\n",
       "    <tr>\n",
       "      <th>16</th>\n",
       "      <td>0.204873</td>\n",
       "      <td>-0.218876</td>\n",
       "    </tr>\n",
       "    <tr>\n",
       "      <th>17</th>\n",
       "      <td>-2.858250</td>\n",
       "      <td>0.392989</td>\n",
       "    </tr>\n",
       "    <tr>\n",
       "      <th>18</th>\n",
       "      <td>-1.712984</td>\n",
       "      <td>1.287886</td>\n",
       "    </tr>\n",
       "    <tr>\n",
       "      <th>19</th>\n",
       "      <td>1.658581</td>\n",
       "      <td>-1.910245</td>\n",
       "    </tr>\n",
       "    <tr>\n",
       "      <th>20</th>\n",
       "      <td>-4.255363</td>\n",
       "      <td>2.863653</td>\n",
       "    </tr>\n",
       "    <tr>\n",
       "      <th>21</th>\n",
       "      <td>-3.088289</td>\n",
       "      <td>3.647275</td>\n",
       "    </tr>\n",
       "    <tr>\n",
       "      <th>22</th>\n",
       "      <td>0.564657</td>\n",
       "      <td>-0.695165</td>\n",
       "    </tr>\n",
       "    <tr>\n",
       "      <th>23</th>\n",
       "      <td>-2.634666</td>\n",
       "      <td>0.226457</td>\n",
       "    </tr>\n",
       "    <tr>\n",
       "      <th>24</th>\n",
       "      <td>-2.777690</td>\n",
       "      <td>2.670964</td>\n",
       "    </tr>\n",
       "    <tr>\n",
       "      <th>25</th>\n",
       "      <td>-2.986147</td>\n",
       "      <td>3.293880</td>\n",
       "    </tr>\n",
       "    <tr>\n",
       "      <th>26</th>\n",
       "      <td>-3.206563</td>\n",
       "      <td>1.020346</td>\n",
       "    </tr>\n",
       "    <tr>\n",
       "      <th>27</th>\n",
       "      <td>1.722490</td>\n",
       "      <td>-1.794546</td>\n",
       "    </tr>\n",
       "    <tr>\n",
       "      <th>28</th>\n",
       "      <td>-3.277003</td>\n",
       "      <td>1.786367</td>\n",
       "    </tr>\n",
       "    <tr>\n",
       "      <th>29</th>\n",
       "      <td>-3.071295</td>\n",
       "      <td>0.842303</td>\n",
       "    </tr>\n",
       "    <tr>\n",
       "      <th>...</th>\n",
       "      <td>...</td>\n",
       "      <td>...</td>\n",
       "    </tr>\n",
       "    <tr>\n",
       "      <th>570</th>\n",
       "      <td>-2.509409</td>\n",
       "      <td>0.504174</td>\n",
       "    </tr>\n",
       "    <tr>\n",
       "      <th>571</th>\n",
       "      <td>-2.918538</td>\n",
       "      <td>2.354777</td>\n",
       "    </tr>\n",
       "    <tr>\n",
       "      <th>572</th>\n",
       "      <td>-4.343797</td>\n",
       "      <td>5.300461</td>\n",
       "    </tr>\n",
       "    <tr>\n",
       "      <th>573</th>\n",
       "      <td>2.669117</td>\n",
       "      <td>-3.305495</td>\n",
       "    </tr>\n",
       "    <tr>\n",
       "      <th>574</th>\n",
       "      <td>-3.213584</td>\n",
       "      <td>3.574545</td>\n",
       "    </tr>\n",
       "    <tr>\n",
       "      <th>575</th>\n",
       "      <td>-1.684725</td>\n",
       "      <td>-1.655227</td>\n",
       "    </tr>\n",
       "    <tr>\n",
       "      <th>576</th>\n",
       "      <td>0.301484</td>\n",
       "      <td>0.230603</td>\n",
       "    </tr>\n",
       "    <tr>\n",
       "      <th>577</th>\n",
       "      <td>-3.837940</td>\n",
       "      <td>1.928189</td>\n",
       "    </tr>\n",
       "    <tr>\n",
       "      <th>578</th>\n",
       "      <td>-2.496939</td>\n",
       "      <td>0.362706</td>\n",
       "    </tr>\n",
       "    <tr>\n",
       "      <th>579</th>\n",
       "      <td>-3.216593</td>\n",
       "      <td>0.466884</td>\n",
       "    </tr>\n",
       "    <tr>\n",
       "      <th>580</th>\n",
       "      <td>-3.999753</td>\n",
       "      <td>2.003064</td>\n",
       "    </tr>\n",
       "    <tr>\n",
       "      <th>581</th>\n",
       "      <td>0.600472</td>\n",
       "      <td>-0.042886</td>\n",
       "    </tr>\n",
       "    <tr>\n",
       "      <th>582</th>\n",
       "      <td>-2.298489</td>\n",
       "      <td>-0.475313</td>\n",
       "    </tr>\n",
       "    <tr>\n",
       "      <th>583</th>\n",
       "      <td>-3.053135</td>\n",
       "      <td>3.217368</td>\n",
       "    </tr>\n",
       "    <tr>\n",
       "      <th>584</th>\n",
       "      <td>-3.349901</td>\n",
       "      <td>3.106616</td>\n",
       "    </tr>\n",
       "    <tr>\n",
       "      <th>585</th>\n",
       "      <td>-2.908319</td>\n",
       "      <td>0.687885</td>\n",
       "    </tr>\n",
       "    <tr>\n",
       "      <th>586</th>\n",
       "      <td>0.391821</td>\n",
       "      <td>0.028314</td>\n",
       "    </tr>\n",
       "    <tr>\n",
       "      <th>587</th>\n",
       "      <td>-2.259874</td>\n",
       "      <td>-0.424533</td>\n",
       "    </tr>\n",
       "    <tr>\n",
       "      <th>588</th>\n",
       "      <td>-1.566215</td>\n",
       "      <td>1.287548</td>\n",
       "    </tr>\n",
       "    <tr>\n",
       "      <th>589</th>\n",
       "      <td>0.918991</td>\n",
       "      <td>-0.546433</td>\n",
       "    </tr>\n",
       "    <tr>\n",
       "      <th>590</th>\n",
       "      <td>-3.453370</td>\n",
       "      <td>4.506837</td>\n",
       "    </tr>\n",
       "    <tr>\n",
       "      <th>591</th>\n",
       "      <td>-3.509818</td>\n",
       "      <td>1.781422</td>\n",
       "    </tr>\n",
       "    <tr>\n",
       "      <th>592</th>\n",
       "      <td>1.526552</td>\n",
       "      <td>-1.859420</td>\n",
       "    </tr>\n",
       "    <tr>\n",
       "      <th>593</th>\n",
       "      <td>-3.152893</td>\n",
       "      <td>1.263435</td>\n",
       "    </tr>\n",
       "    <tr>\n",
       "      <th>594</th>\n",
       "      <td>-3.528748</td>\n",
       "      <td>4.304124</td>\n",
       "    </tr>\n",
       "    <tr>\n",
       "      <th>595</th>\n",
       "      <td>-4.088088</td>\n",
       "      <td>2.072528</td>\n",
       "    </tr>\n",
       "    <tr>\n",
       "      <th>596</th>\n",
       "      <td>1.377600</td>\n",
       "      <td>-1.732085</td>\n",
       "    </tr>\n",
       "    <tr>\n",
       "      <th>597</th>\n",
       "      <td>-3.234550</td>\n",
       "      <td>1.214293</td>\n",
       "    </tr>\n",
       "    <tr>\n",
       "      <th>598</th>\n",
       "      <td>-3.074366</td>\n",
       "      <td>3.846399</td>\n",
       "    </tr>\n",
       "    <tr>\n",
       "      <th>599</th>\n",
       "      <td>-4.889634</td>\n",
       "      <td>3.393015</td>\n",
       "    </tr>\n",
       "  </tbody>\n",
       "</table>\n",
       "<p>600 rows × 2 columns</p>\n",
       "</div>"
      ],
      "text/plain": [
       "            0         1\n",
       "0   -2.813086  2.569348\n",
       "1   -2.231062  2.102220\n",
       "2   -2.679970 -0.161424\n",
       "3   -2.764727  3.112637\n",
       "4   -3.580235  3.893048\n",
       "5   -3.780327  3.622419\n",
       "6   -3.762854  1.303312\n",
       "7   -2.743381  3.030184\n",
       "8   -3.536745  1.959006\n",
       "9    1.062795 -0.467419\n",
       "10  -2.191274  2.044874\n",
       "11  -2.473546  2.635734\n",
       "12  -3.290220  1.011851\n",
       "13  -2.449400  2.460569\n",
       "14   1.852888 -1.850397\n",
       "15  -1.575879  1.060324\n",
       "16   0.204873 -0.218876\n",
       "17  -2.858250  0.392989\n",
       "18  -1.712984  1.287886\n",
       "19   1.658581 -1.910245\n",
       "20  -4.255363  2.863653\n",
       "21  -3.088289  3.647275\n",
       "22   0.564657 -0.695165\n",
       "23  -2.634666  0.226457\n",
       "24  -2.777690  2.670964\n",
       "25  -2.986147  3.293880\n",
       "26  -3.206563  1.020346\n",
       "27   1.722490 -1.794546\n",
       "28  -3.277003  1.786367\n",
       "29  -3.071295  0.842303\n",
       "..        ...       ...\n",
       "570 -2.509409  0.504174\n",
       "571 -2.918538  2.354777\n",
       "572 -4.343797  5.300461\n",
       "573  2.669117 -3.305495\n",
       "574 -3.213584  3.574545\n",
       "575 -1.684725 -1.655227\n",
       "576  0.301484  0.230603\n",
       "577 -3.837940  1.928189\n",
       "578 -2.496939  0.362706\n",
       "579 -3.216593  0.466884\n",
       "580 -3.999753  2.003064\n",
       "581  0.600472 -0.042886\n",
       "582 -2.298489 -0.475313\n",
       "583 -3.053135  3.217368\n",
       "584 -3.349901  3.106616\n",
       "585 -2.908319  0.687885\n",
       "586  0.391821  0.028314\n",
       "587 -2.259874 -0.424533\n",
       "588 -1.566215  1.287548\n",
       "589  0.918991 -0.546433\n",
       "590 -3.453370  4.506837\n",
       "591 -3.509818  1.781422\n",
       "592  1.526552 -1.859420\n",
       "593 -3.152893  1.263435\n",
       "594 -3.528748  4.304124\n",
       "595 -4.088088  2.072528\n",
       "596  1.377600 -1.732085\n",
       "597 -3.234550  1.214293\n",
       "598 -3.074366  3.846399\n",
       "599 -4.889634  3.393015\n",
       "\n",
       "[600 rows x 2 columns]"
      ]
     },
     "execution_count": 3,
     "metadata": {},
     "output_type": "execute_result"
    }
   ],
   "source": [
    "date"
   ]
  },
  {
   "cell_type": "code",
   "execution_count": 104,
   "metadata": {},
   "outputs": [
    {
     "data": {
      "text/plain": [
       "array([2, 0, 0, 2, 2, 2, 0, 2, 0, 1, 0, 2, 0, 2, 1, 0, 0, 0, 0, 1, 2, 2, 1,\n",
       "       0, 2, 2, 0, 1, 0, 0, 0, 0, 2, 0, 0, 2, 1, 1, 0, 2, 1, 1, 0, 2, 0, 2,\n",
       "       0, 1, 2, 0, 2, 2, 2, 0, 1, 0, 2, 2, 1, 0, 2, 1, 0, 1, 1, 1, 2, 2, 1,\n",
       "       0, 0, 0, 2, 0, 2, 1, 2, 2, 0, 1, 2, 0, 1, 0, 0, 0, 1, 0, 0, 1, 0, 0,\n",
       "       2, 1, 2, 2, 2, 1, 2, 0, 2, 2, 2, 0, 0, 0, 1, 2, 1, 0, 1, 0, 2, 2, 1,\n",
       "       1, 1, 2, 1, 0, 0, 0, 1, 1, 0, 2, 2, 0, 2, 1, 0, 1, 1, 0, 2, 2, 1, 2,\n",
       "       0, 2, 1, 0, 2, 2, 2, 2, 1, 0, 0, 0, 0, 0, 1, 0, 0, 1, 0, 0, 0, 0, 2,\n",
       "       2, 2, 0, 0, 0, 1, 1, 0, 0, 0, 0, 2, 0, 0, 1, 0, 1, 2, 1, 2, 2, 0, 1,\n",
       "       0, 0, 2, 2, 2, 0, 0, 2, 2, 0, 0, 1, 0, 2, 0, 2, 0, 2, 2, 2, 1, 0, 0,\n",
       "       0, 2, 1, 2, 0, 2, 0, 0, 1, 0, 2, 0, 0, 2, 1, 0, 0, 1, 0, 0, 0, 2, 0,\n",
       "       2, 1, 1, 0, 0, 0, 1, 0, 2, 2, 0, 0, 2, 2, 2, 0, 0, 0, 0, 1, 1, 0, 1,\n",
       "       0, 0, 0, 1, 0, 1, 2, 2, 2, 1, 2, 2, 0, 2, 0, 0, 0, 2, 0, 2, 1, 2, 2,\n",
       "       0, 0, 2, 0, 1, 0, 2, 1, 2, 1, 1, 0, 0, 0, 2, 0, 0, 1, 0, 0, 1, 1, 0,\n",
       "       0, 0, 2, 2, 1, 0, 0, 2, 1, 0, 1, 2, 2, 0, 0, 1, 0, 1, 0, 1, 0, 0, 0,\n",
       "       2, 1, 1, 2, 2, 0, 1, 2, 2, 2, 1, 0, 1, 2, 1, 2, 0, 1, 0, 0, 1, 0, 2,\n",
       "       0, 0, 0, 1, 0, 2, 2, 1, 0, 1, 0, 2, 2, 2, 0, 1, 1, 0, 2, 1, 1, 1, 0,\n",
       "       0, 0, 1, 0, 2, 1, 0, 1, 2, 2, 2, 2, 2, 2, 2, 2, 1, 1, 0, 0, 0, 0, 0,\n",
       "       0, 0, 2, 1, 0, 2, 0, 1, 0, 0, 0, 2, 2, 2, 0, 1, 1, 2, 0, 0, 0, 1, 0,\n",
       "       0, 2, 0, 0, 0, 2, 1, 0, 2, 1, 1, 0, 0, 0, 1, 2, 0, 0, 0, 0, 0, 0, 0,\n",
       "       1, 0, 2, 2, 0, 0, 0, 1, 1, 2, 0, 1, 0, 2, 2, 0, 0, 2, 1, 1, 0, 0, 2,\n",
       "       2, 2, 1, 1, 0, 0, 2, 0, 0, 2, 0, 2, 2, 0, 0, 0, 0, 0, 1, 0, 1, 1, 0,\n",
       "       1, 2, 0, 0, 0, 0, 2, 0, 2, 1, 1, 1, 1, 1, 0, 0, 1, 0, 1, 0, 0, 1, 2,\n",
       "       2, 0, 0, 0, 2, 1, 1, 1, 2, 1, 1, 1, 1, 0, 0, 2, 1, 1, 0, 1, 1, 0, 0,\n",
       "       0, 0, 2, 0, 0, 2, 0, 2, 0, 1, 0, 2, 1, 2, 2, 1, 1, 1, 0, 2, 2, 2, 0,\n",
       "       2, 0, 2, 0, 0, 0, 1, 0, 1, 0, 1, 1, 0, 0, 2, 0, 0, 0, 0, 2, 2, 1, 2,\n",
       "       0, 0, 0, 0, 0, 2, 0, 0, 2, 2, 0, 0, 0, 0, 1, 2, 0, 1, 0, 2, 2, 1, 0,\n",
       "       2, 2], dtype=int64)"
      ]
     },
     "execution_count": 104,
     "metadata": {},
     "output_type": "execute_result"
    }
   ],
   "source": [
    "model_ag=AgglomerativeClustering(n_clusters=3, linkage='complete')\n",
    "model_ag.fit(date)\n",
    "model_ag.labels_"
   ]
  },
  {
   "cell_type": "code",
   "execution_count": 105,
   "metadata": {
    "scrolled": true
   },
   "outputs": [],
   "source": [
    "date[\"label\"]=model_ag.labels_"
   ]
  },
  {
   "cell_type": "code",
   "execution_count": 106,
   "metadata": {},
   "outputs": [
    {
     "data": {
      "text/plain": [
       "<seaborn.axisgrid.PairGrid at 0x1cc875f8>"
      ]
     },
     "execution_count": 106,
     "metadata": {},
     "output_type": "execute_result"
    },
    {
     "data": {
      "image/png": "[encoded data removed]",
      "text/plain": [
       "<matplotlib.figure.Figure at 0x1cc879b0>"
      ]
     },
     "metadata": {},
     "output_type": "display_data"
    }
   ],
   "source": [
    "sns.pairplot(data=date,hue=\"label\",x_vars=0, y_vars=1,size=5)"
   ]
  },
  {
   "cell_type": "code",
   "execution_count": 6,
   "metadata": {
    "scrolled": true
   },
   "outputs": [
    {
     "data": {
      "text/plain": [
       "array([ 0,  0,  1,  0,  0,  0,  1,  0,  1,  2,  0,  0,  1,  0,  2,  0,  2,\n",
       "        1,  0,  2,  1,  0,  2,  1,  0,  0,  1,  2,  1,  1,  1,  1,  1,  1,\n",
       "        1, -1,  2,  2,  1,  1,  2,  2, -1,  0,  0,  0,  1,  2,  0,  0,  1,\n",
       "        3,  0,  1,  2,  1,  1,  0,  2,  0,  0,  2,  0,  2,  2,  2,  0,  0,\n",
       "        2,  1,  2,  0,  0,  2,  1,  2,  0,  0,  1,  2,  0,  2,  2,  0,  1,\n",
       "        0,  2,  1,  1,  2,  2,  2,  1,  2,  0,  0,  0,  2,  0,  1,  0,  0,\n",
       "        1,  1,  1,  2,  2,  0,  2,  2,  2,  2,  0,  1,  2,  2,  2,  0,  2,\n",
       "        1,  2,  1,  2,  2,  2,  0,  1,  2,  1,  4,  1,  2,  2,  2,  0,  0,\n",
       "        2,  0,  1,  0,  2,  1,  0,  1,  0,  0,  2,  1,  1,  0,  1,  0,  2,\n",
       "        0,  2,  2,  1,  0,  0,  1,  0,  0,  0,  0,  0,  1,  2,  2,  0,  1,\n",
       "        0,  2,  1,  0,  1,  2,  0,  2,  0,  2,  1,  0,  1,  2,  1,  2,  0,\n",
       "        0,  0,  2,  1,  1,  0,  1,  1,  2,  2,  0,  1,  0,  1,  1,  0,  1,\n",
       "        2,  1,  0,  0,  1,  2,  0,  0,  0,  2,  0,  2,  1,  0,  1,  1,  0,\n",
       "        2,  1,  2,  4,  1,  0,  1,  0,  1,  1,  2,  2,  1,  2,  1,  2,  0,\n",
       "        1,  0,  1,  2,  0,  3,  0,  1,  1,  1,  1,  4,  2,  2,  2,  1,  1,\n",
       "        1,  2,  1,  2,  0,  0,  1,  2,  1,  0,  1,  0,  1,  1,  0,  0,  2,\n",
       "        0,  2,  0,  0,  1,  0,  0,  0,  2,  2,  0,  2,  0,  2,  2,  1,  2,\n",
       "        1,  0,  1,  1,  2,  2,  1,  2,  2,  1,  1,  1,  0,  0,  2,  0,  1,\n",
       "        1,  2,  0,  2,  0,  0,  0,  0,  2,  0,  2,  1,  2,  1,  1,  1,  0,\n",
       "        2,  2,  1,  1,  1,  2,  0,  0,  1,  2,  2,  2,  0,  2,  1,  2,  2,\n",
       "        1,  1,  2,  0,  1,  1,  0,  2,  2,  1,  0,  0,  2,  0,  2,  2,  1,\n",
       "        0,  0,  2,  2,  2,  1,  0,  2,  2,  2,  2,  1,  1,  2,  1,  0,  2,\n",
       "        2,  2,  0,  1,  3,  0,  0,  1,  0,  0,  2,  2,  1,  1,  1,  0,  1,\n",
       "        0,  1,  0,  2,  0,  0,  2,  2,  1,  0,  2,  1,  1,  0,  1,  2,  2,\n",
       "       -1,  0,  1, -1,  2,  0,  2,  0,  2,  1,  0,  0,  2,  0,  0,  2,  2,\n",
       "        1,  1,  0,  2,  0,  1,  1,  2,  1,  1,  1,  1,  2,  1,  3,  0,  1,\n",
       "        0,  0,  2,  2,  0,  1,  2,  0,  1,  0,  1,  1,  0,  2,  2,  1,  1,\n",
       "        0,  0,  0,  2,  2,  0,  0,  0,  1,  1,  0,  1,  0,  0,  2,  1,  1,\n",
       "        2,  0,  2,  1,  2,  2,  0,  2,  0,  1,  1,  2,  1,  0,  1,  1,  2,\n",
       "        2,  2,  2,  2,  1,  0,  2,  0,  2,  2,  1,  2,  0,  1, -1,  1,  1,\n",
       "        1,  2,  2,  2,  0,  2,  2,  2,  2,  2,  1,  1,  2,  2,  1,  2,  2,\n",
       "        1,  0,  1,  1,  0,  0,  0,  1,  0,  0,  0,  2,  1,  0,  2,  0,  0,\n",
       "        2,  2,  2,  1,  0,  0,  0,  1,  3,  0,  0,  1,  0,  1,  2,  1,  2,\n",
       "        1,  2,  2,  1,  1,  1,  1,  1,  0,  1,  0,  3,  4,  0,  1,  2,  1,\n",
       "        1,  1,  1,  2,  1,  0,  0,  1,  2,  1,  0,  2,  0,  1,  2,  1,  0,\n",
       "        1,  2,  1,  0,  1], dtype=int64)"
      ]
     },
     "execution_count": 6,
     "metadata": {},
     "output_type": "execute_result"
    }
   ],
   "source": [
    "model_db=DBSCAN(eps=0.4,min_samples=4)\n",
    "model_db.fit(date)\n",
    "model_db.labels_"
   ]
  },
  {
   "cell_type": "code",
   "execution_count": 7,
   "metadata": {},
   "outputs": [],
   "source": [
    "date[\"label\"]=model_db.labels_"
   ]
  },
  {
   "cell_type": "code",
   "execution_count": 8,
   "metadata": {},
   "outputs": [
    {
     "data": {
      "text/plain": [
       "<seaborn.axisgrid.PairGrid at 0x59d6be0>"
      ]
     },
     "execution_count": 8,
     "metadata": {},
     "output_type": "execute_result"
    },
    {
     "data": {
      "image/png": "[encoded data removed]",
      "text/plain": [
       "<matplotlib.figure.Figure at 0x59d6a20>"
      ]
     },
     "metadata": {},
     "output_type": "display_data"
    }
   ],
   "source": [
    "sns.pairplot(data=date,hue=\"label\",x_vars=0, y_vars=1,size=5)"
   ]
  },
  {
   "cell_type": "code",
   "execution_count": 55,
   "metadata": {
    "scrolled": true
   },
   "outputs": [
    {
     "data": {
      "text/plain": [
       "array([0, 0, 0, 0, 0, 0, 0, 0, 0, 1, 0, 0, 0, 0, 1, 0, 1, 0, 0, 1, 0, 0, 1,\n",
       "       0, 0, 0, 0, 1, 0, 0, 0, 1, 0, 0, 0, 0, 1, 1, 1, 0, 1, 1, 0, 0, 0, 0,\n",
       "       0, 1, 0, 0, 0, 0, 0, 0, 1, 0, 0, 0, 1, 0, 0, 1, 0, 1, 1, 1, 0, 0, 1,\n",
       "       0, 1, 0, 0, 1, 0, 1, 0, 0, 0, 1, 0, 1, 1, 0, 0, 0, 1, 0, 0, 1, 1, 1,\n",
       "       0, 1, 0, 0, 0, 1, 0, 0, 0, 0, 0, 0, 1, 1, 1, 0, 1, 1, 1, 1, 0, 0, 1,\n",
       "       1, 1, 0, 1, 0, 1, 0, 1, 1, 1, 0, 0, 1, 0, 1, 0, 1, 1, 1, 0, 0, 1, 0,\n",
       "       1, 0, 1, 0, 0, 0, 0, 0, 1, 0, 1, 0, 0, 0, 1, 0, 1, 1, 0, 0, 0, 0, 0,\n",
       "       0, 0, 0, 0, 0, 1, 1, 0, 0, 0, 1, 0, 0, 1, 1, 0, 1, 0, 1, 0, 0, 0, 1,\n",
       "       0, 1, 0, 0, 0, 1, 0, 0, 0, 0, 0, 1, 1, 0, 0, 0, 1, 0, 0, 0, 1, 0, 0,\n",
       "       0, 0, 1, 0, 0, 0, 1, 0, 1, 0, 0, 0, 0, 0, 1, 0, 1, 1, 0, 0, 0, 0, 0,\n",
       "       0, 1, 1, 0, 1, 0, 1, 0, 0, 0, 0, 1, 0, 0, 0, 0, 0, 0, 0, 1, 1, 1, 1,\n",
       "       0, 0, 0, 1, 0, 1, 0, 0, 0, 1, 0, 0, 0, 0, 0, 0, 0, 0, 1, 0, 1, 0, 0,\n",
       "       0, 0, 0, 0, 1, 1, 0, 1, 0, 1, 1, 0, 1, 0, 0, 0, 1, 1, 1, 0, 1, 1, 0,\n",
       "       1, 1, 0, 0, 1, 0, 0, 0, 1, 0, 1, 0, 0, 0, 0, 1, 0, 1, 0, 1, 0, 0, 0,\n",
       "       0, 1, 1, 0, 0, 1, 1, 0, 0, 0, 1, 1, 1, 0, 1, 0, 1, 1, 1, 0, 1, 0, 0,\n",
       "       0, 0, 1, 1, 0, 0, 0, 1, 0, 1, 1, 0, 0, 0, 1, 1, 1, 1, 0, 1, 1, 1, 1,\n",
       "       0, 1, 1, 0, 0, 1, 1, 1, 0, 0, 0, 0, 0, 0, 0, 0, 1, 1, 0, 0, 0, 0, 0,\n",
       "       0, 0, 0, 1, 0, 0, 1, 1, 0, 0, 1, 0, 0, 0, 0, 1, 1, 0, 0, 0, 1, 1, 0,\n",
       "       1, 0, 1, 0, 0, 0, 1, 0, 0, 1, 1, 0, 0, 0, 1, 0, 0, 0, 1, 0, 0, 0, 0,\n",
       "       1, 0, 0, 0, 0, 0, 0, 1, 1, 0, 0, 1, 0, 0, 0, 0, 0, 0, 1, 1, 0, 0, 0,\n",
       "       0, 0, 1, 1, 0, 0, 0, 0, 0, 0, 0, 0, 0, 1, 0, 0, 1, 0, 1, 0, 1, 1, 0,\n",
       "       1, 0, 0, 0, 1, 0, 0, 0, 0, 1, 1, 1, 1, 1, 0, 0, 1, 0, 1, 1, 1, 1, 0,\n",
       "       0, 0, 1, 0, 0, 1, 1, 1, 0, 1, 1, 1, 1, 1, 0, 0, 1, 1, 0, 1, 1, 0, 0,\n",
       "       0, 0, 0, 0, 0, 0, 0, 0, 0, 1, 0, 0, 1, 0, 0, 1, 1, 1, 0, 0, 0, 0, 0,\n",
       "       0, 0, 0, 0, 0, 0, 1, 0, 1, 0, 1, 1, 0, 0, 0, 0, 0, 0, 0, 0, 0, 1, 0,\n",
       "       1, 1, 0, 0, 0, 0, 1, 0, 0, 0, 0, 1, 0, 0, 1, 0, 0, 1, 0, 0, 0, 1, 0,\n",
       "       0, 0])"
      ]
     },
     "execution_count": 55,
     "metadata": {},
     "output_type": "execute_result"
    }
   ],
   "source": [
    "model_km=KMeans(n_clusters=2)\n",
    "model_km.fit(date)\n",
    "model_km.labels_"
   ]
  },
  {
   "cell_type": "code",
   "execution_count": 9,
   "metadata": {
    "collapsed": true
   },
   "outputs": [],
   "source": [
    "from sklearn.preprocessing import StandardScaler"
   ]
  },
  {
   "cell_type": "code",
   "execution_count": 10,
   "metadata": {
    "collapsed": true
   },
   "outputs": [],
   "source": [
    "scaler= StandardScaler()"
   ]
  },
  {
   "cell_type": "code",
   "execution_count": 11,
   "metadata": {},
   "outputs": [
    {
     "data": {
      "text/plain": [
       "StandardScaler(copy=True, with_mean=True, with_std=True)"
      ]
     },
     "execution_count": 11,
     "metadata": {},
     "output_type": "execute_result"
    }
   ],
   "source": [
    "scaler.fit(date)"
   ]
  },
  {
   "cell_type": "code",
   "execution_count": 24,
   "metadata": {},
   "outputs": [
    {
     "data": {
      "text/plain": [
       "array([[-0.5656215 ,  0.81786759, -1.10068322],\n",
       "       [-0.28089035,  0.57049675, -1.10068322],\n",
       "       [-0.5005001 , -0.62823191,  0.05996692],\n",
       "       ..., \n",
       "       [-0.77180544,  0.10028879,  0.05996692],\n",
       "       [-0.69344191,  1.49413898, -1.10068322],\n",
       "       [-1.5814864 ,  1.25404641,  0.05996692]])"
      ]
     },
     "execution_count": 24,
     "metadata": {},
     "output_type": "execute_result"
    }
   ],
   "source": [
    "scaler.transform(date)"
   ]
  },
  {
   "cell_type": "code",
   "execution_count": 25,
   "metadata": {},
   "outputs": [
    {
     "data": {
      "text/plain": [
       "array([ 0,  0,  1,  0,  0,  0,  1,  0,  1,  2,  0,  0,  1,  0,  2,  0,  2,\n",
       "        1,  0,  2,  1,  0,  2,  1,  0,  0,  1,  2,  1,  1,  1,  1,  1,  1,\n",
       "        1, -1,  2,  2,  1,  1,  2,  2, -1,  0,  0,  0,  1,  2,  0,  0,  1,\n",
       "        3,  0,  1,  2,  1,  1,  0,  2,  0,  0,  2,  0,  2,  2,  2,  0,  0,\n",
       "        2,  1,  2,  0,  0,  2,  1,  2,  0,  0,  1,  2,  0,  2,  2,  0,  1,\n",
       "        0,  2,  1,  1,  2,  2,  2,  1,  2,  0,  0,  0,  2,  0,  1,  0,  0,\n",
       "        1,  1,  1,  2,  2,  0,  2,  2,  2,  2,  0,  1,  2,  2,  2,  0,  2,\n",
       "        1,  2,  1,  2,  2,  2,  0,  1,  2,  1,  4,  1,  2,  2,  2,  0,  0,\n",
       "        2,  0,  1,  0,  2,  1,  0,  1,  0,  0,  2,  1,  1,  0,  1,  0,  2,\n",
       "        0,  2,  2,  1,  0,  0,  1,  0,  0,  0,  0,  0,  1,  2,  2,  0,  1,\n",
       "        0,  2,  1,  0,  1,  2,  0,  2,  0,  2,  1,  0,  1,  2,  1,  2,  0,\n",
       "        0,  0,  2,  1,  1,  0,  1,  1,  2,  2,  0,  1,  0,  1,  1,  0,  1,\n",
       "        2,  1,  0,  0,  1,  2,  0,  0,  0,  2,  0,  2,  1,  0,  1,  1,  0,\n",
       "        2,  1,  2,  4,  1,  0,  1,  0,  1,  1,  2,  2,  1,  2,  1,  2,  0,\n",
       "        1,  0,  1,  2,  0,  3,  0,  1,  1,  1,  1,  4,  2,  2,  2,  1,  1,\n",
       "        1,  2,  1,  2,  0,  0,  1,  2,  1,  0,  1,  0,  1,  1,  0,  0,  2,\n",
       "        0,  2,  0,  0,  1,  0,  0,  0,  2,  2,  0,  2,  0,  2,  2,  1,  2,\n",
       "        1,  0,  1,  1,  2,  2,  1,  2,  2,  1,  1,  1,  0,  0,  2,  0,  1,\n",
       "        1,  2,  0,  2,  0,  0,  0,  0,  2,  0,  2,  1,  2,  1,  1,  1,  0,\n",
       "        2,  2,  1,  1,  1,  2,  0,  0,  1,  2,  2,  2,  0,  2,  1,  2,  2,\n",
       "        1,  1,  2,  0,  1,  1,  0,  2,  2,  1,  0,  0,  2,  0,  2,  2,  1,\n",
       "        0,  0,  2,  2,  2,  1,  0,  2,  2,  2,  2,  1,  1,  2,  1,  0,  2,\n",
       "        2,  2,  0,  1,  3,  0,  0,  1,  0,  0,  2,  2,  1,  1,  1,  0,  1,\n",
       "        0,  1,  0,  2,  0,  0,  2,  2,  1,  0,  2,  1,  1,  0,  1,  2,  2,\n",
       "       -1,  0,  1, -1,  2,  0,  2,  0,  2,  1,  0,  0,  2,  0,  0,  2,  2,\n",
       "        1,  1,  0,  2,  0,  1,  1,  2,  1,  1,  1,  1,  2,  1,  3,  0,  1,\n",
       "        0,  0,  2,  2,  0,  1,  2,  0,  1,  0,  1,  1,  0,  2,  2,  1,  1,\n",
       "        0,  0,  0,  2,  2,  0,  0,  0,  1,  1,  0,  1,  0,  0,  2,  1,  1,\n",
       "        2,  0,  2,  1,  2,  2,  0,  2,  0,  1,  1,  2,  1,  0,  1,  1,  2,\n",
       "        2,  2,  2,  2,  1,  0,  2,  0,  2,  2,  1,  2,  0,  1, -1,  1,  1,\n",
       "        1,  2,  2,  2,  0,  2,  2,  2,  2,  2,  1,  1,  2,  2,  1,  2,  2,\n",
       "        1,  0,  1,  1,  0,  0,  0,  1,  0,  0,  0,  2,  1,  0,  2,  0,  0,\n",
       "        2,  2,  2,  1,  0,  0,  0,  1,  3,  0,  0,  1,  0,  1,  2,  1,  2,\n",
       "        1,  2,  2,  1,  1,  1,  1,  1,  0,  1,  0,  3,  4,  0,  1,  2,  1,\n",
       "        1,  1,  1,  2,  1,  0,  0,  1,  2,  1,  0,  2,  0,  1,  2,  1,  0,\n",
       "        1,  2,  1,  0,  1], dtype=int64)"
      ]
     },
     "execution_count": 25,
     "metadata": {},
     "output_type": "execute_result"
    }
   ],
   "source": [
    "model_db=DBSCAN(eps=0.4,min_samples=4)\n",
    "model_db.fit(date_sc)\n",
    "model_db.labels_"
   ]
  },
  {
   "cell_type": "code",
   "execution_count": 26,
   "metadata": {},
   "outputs": [],
   "source": [
    "date[\"label\"]=model_db.labels_"
   ]
  },
  {
   "cell_type": "code",
   "execution_count": 27,
   "metadata": {},
   "outputs": [
    {
     "data": {
      "text/plain": [
       "<seaborn.axisgrid.PairGrid at 0x1c4dbcf8>"
      ]
     },
     "execution_count": 27,
     "metadata": {},
     "output_type": "execute_result"
    },
    {
     "data": {
      "image/png": "[encoded data removed]",
      "text/plain": [
       "<matplotlib.figure.Figure at 0x1c55bc88>"
      ]
     },
     "metadata": {},
     "output_type": "display_data"
    }
   ],
   "source": [
    "sns.pairplot(data=date,hue=\"label\",x_vars=0, y_vars=1,size=5)"
   ]
  },
  {
   "cell_type": "code",
   "execution_count": null,
   "metadata": {
    "collapsed": true
   },
   "outputs": [],
   "source": []
  }
 ],
 "metadata": {
  "kernelspec": {
   "display_name": "Python 3",
   "language": "python",
   "name": "python3"
  },
  "language_info": {
   "codemirror_mode": {
    "name": "ipython",
    "version": 3
   },
   "file_extension": ".py",
   "mimetype": "text/x-python",
   "name": "python",
   "nbconvert_exporter": "python",
   "pygments_lexer": "ipython3",
   "version": "3.6.3"
  }
 },
 "nbformat": 4,
 "nbformat_minor": 2
}
