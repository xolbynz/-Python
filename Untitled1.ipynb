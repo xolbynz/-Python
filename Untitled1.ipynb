{
 "cells": [
  {
   "cell_type": "code",
   "execution_count": null,
   "metadata": {},
   "outputs": [
    {
     "name": "stdout",
     "output_type": "stream",
     "text": [
      "====사칙연산(+,-,*,/)====\n"
     ]
    }
   ],
   "source": [
    "#Q1_응용\n",
    "print(\"====사칙연산(+,-,*,/)====\")\n",
    "a = int(input(\"첫 번째 정수 입력 : \"))\n",
    "b = int(input(\"두 번째 정수 입력 : \"))\n",
    "c = input(\"연산자 입력 : \")\n",
    "\n",
    "if c == \"+\":\n",
    "    d = a + b\n",
    "\n",
    "elif c == \"-\":\n",
    "    d = a - b\n",
    "\n",
    "elif c == \"*\":\n",
    "    d = a * b\n",
    "\n",
    "elif c == \"/\":\n",
    "    d = a / b\n",
    "    \n",
    "print(\"연산결과 : {}\".format(d))"
   ]
  },
  {
   "cell_type": "code",
   "execution_count": null,
   "metadata": {
    "collapsed": true
   },
   "outputs": [],
   "source": [
    "#Q2_응용\n",
    "#a = input(\"정수 입력 : \")\n"
   ]
  },
  {
   "cell_type": "code",
   "execution_count": null,
   "metadata": {
    "collapsed": true
   },
   "outputs": [],
   "source": [
    "#Q4.\n",
    "a = int(input(\"StartValue : \"))\n",
    "b =int(input(\"EndValue : \"))\n",
    "\n",
    "print(\"{}~{}까지의 소수\".format(a,b))"
   ]
  }
 ],
 "metadata": {
  "kernelspec": {
   "display_name": "Python 3",
   "language": "python",
   "name": "python3"
  },
  "language_info": {
   "codemirror_mode": {
    "name": "ipython",
    "version": 3
   },
   "file_extension": ".py",
   "mimetype": "text/x-python",
   "name": "python",
   "nbconvert_exporter": "python",
   "pygments_lexer": "ipython3",
   "version": "3.6.3"
  }
 },
 "nbformat": 4,
 "nbformat_minor": 2
}
