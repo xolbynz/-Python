{
 "cells": [
  {
   "cell_type": "markdown",
   "metadata": {
    "colab_type": "text",
    "id": "HG-gxEhOIyaL"
   },
   "source": [
    "# 폐암 수술환자 생존율 예측"
   ]
  },
  {
   "cell_type": "code",
   "execution_count": 2,
   "metadata": {
    "colab": {
     "base_uri": "https://localhost:8080/",
     "height": 34
    },
    "colab_type": "code",
    "id": "6UFIVAjHKH1f",
    "outputId": "d298b3c4-0dce-46c9-8e33-8ed4ff8d60ed"
   },
   "outputs": [
    {
     "name": "stderr",
     "output_type": "stream",
     "text": [
      "Using TensorFlow backend.\n"
     ]
    }
   ],
   "source": [
    "from keras.models import Sequential\n",
    "from keras.layers import Dense\n",
    "\n",
    "import numpy as np\n",
    "import tensorflow as tf"
   ]
  },
  {
   "cell_type": "code",
   "execution_count": 5,
   "metadata": {
    "colab": {
     "base_uri": "https://localhost:8080/",
     "height": 138
    },
    "colab_type": "code",
    "id": "9NeaZmSiKRhP",
    "outputId": "6b771c04-0b07-4ee1-e145-6169fbd9d484"
   },
   "outputs": [
    {
     "data": {
      "text/plain": [
       "array([[293.  ,   1.  ,   3.8 , ...,   1.  ,   0.  ,  62.  ],\n",
       "       [  1.  ,   2.  ,   2.88, ...,   1.  ,   0.  ,  60.  ],\n",
       "       [  8.  ,   2.  ,   3.19, ...,   1.  ,   0.  ,  66.  ],\n",
       "       ...,\n",
       "       [406.  ,   6.  ,   5.36, ...,   0.  ,   0.  ,  62.  ],\n",
       "       [ 25.  ,   8.  ,   4.32, ...,   0.  ,   0.  ,  58.  ],\n",
       "       [447.  ,   8.  ,   5.2 , ...,   0.  ,   0.  ,  49.  ]])"
      ]
     },
     "execution_count": 5,
     "metadata": {},
     "output_type": "execute_result"
    }
   ],
   "source": [
    "# seed를 통해 0보다 크거나 같은 임의의 정수를 추출 (동일 seed는 같은 난수가 발생)  \n",
    "seed = 0\n",
    "np.random.seed(seed)\n",
    "# 항상 같은 난수 값을 발생하도록 초기화\n",
    "tf.set_random_seed(seed)\n",
    "\n",
    "# 데이터에서 , 제거하고 파일을 읽어서 array로 저장\n",
    "Data_set = np.loadtxt(\"ThoraricSurgery.csv\", delimiter=\",\")\n",
    "\n",
    "# 전체 데이터 행 중에서 0번째부터 17번째 열 값들을 X 리스트에 저장  \n",
    "X = Data_set[:,0:17]\n",
    "# 전체 데이터 행 중에서 17번 열 값을 Y 리스트에 저장 \n",
    "Y = Data_set[:,17]\n",
    "\n",
    "X"
   ]
  },
  {
   "cell_type": "code",
   "execution_count": 6,
   "metadata": {
    "colab": {},
    "colab_type": "code",
    "id": "njJHIMvNK9ZG"
   },
   "outputs": [],
   "source": [
    "# 신경망을 한층 한층 쌓는 기능 (add() 함수 사용)\n",
    "model = Sequential()\n",
    "# Dense() : 신경망 각층의 특성을 설정하는 기능\n",
    "model.add(Dense(30, input_dim=17, activation='relu'))\n",
    "model.add(Dense(1, activation='sigmoid'))"
   ]
  },
  {
   "cell_type": "code",
   "execution_count": 7,
   "metadata": {
    "colab": {
     "base_uri": "https://localhost:8080/",
     "height": 1000
    },
    "colab_type": "code",
    "id": "rPq-_MeaK_UA",
    "outputId": "bca569ad-a357-45dd-c2c7-c7047f0d4f56"
   },
   "outputs": [
    {
     "name": "stderr",
     "output_type": "stream",
     "text": [
      "W0713 12:49:01.611724  8152 deprecation_wrapper.py:119] From C:\\Users\\pc-23\\Anaconda32\\lib\\site-packages\\keras\\optimizers.py:790: The name tf.train.Optimizer is deprecated. Please use tf.compat.v1.train.Optimizer instead.\n",
      "\n",
      "W0713 12:49:01.724730  8152 deprecation_wrapper.py:119] From C:\\Users\\pc-23\\Anaconda32\\lib\\site-packages\\keras\\backend\\tensorflow_backend.py:986: The name tf.assign_add is deprecated. Please use tf.compat.v1.assign_add instead.\n",
      "\n",
      "W0713 12:49:01.771733  8152 deprecation_wrapper.py:119] From C:\\Users\\pc-23\\Anaconda32\\lib\\site-packages\\keras\\backend\\tensorflow_backend.py:973: The name tf.assign is deprecated. Please use tf.compat.v1.assign instead.\n",
      "\n"
     ]
    },
    {
     "name": "stdout",
     "output_type": "stream",
     "text": [
      "Epoch 1/30\n",
      "470/470 [==============================] - 0s 298us/step - loss: 0.6656 - acc: 0.3064\n",
      "Epoch 2/30\n",
      "470/470 [==============================] - 0s 55us/step - loss: 0.1488 - acc: 0.8511\n",
      "Epoch 3/30\n",
      "470/470 [==============================] - 0s 64us/step - loss: 0.1488 - acc: 0.8511\n",
      "Epoch 4/30\n",
      "470/470 [==============================] - 0s 55us/step - loss: 0.1488 - acc: 0.8511\n",
      "Epoch 5/30\n",
      "470/470 [==============================] - 0s 62us/step - loss: 0.1488 - acc: 0.8511\n",
      "Epoch 6/30\n",
      "470/470 [==============================] - 0s 55us/step - loss: 0.1488 - acc: 0.8511\n",
      "Epoch 7/30\n",
      "470/470 [==============================] - 0s 55us/step - loss: 0.1487 - acc: 0.8511\n",
      "Epoch 8/30\n",
      "470/470 [==============================] - 0s 60us/step - loss: 0.1487 - acc: 0.8511\n",
      "Epoch 9/30\n",
      "470/470 [==============================] - 0s 55us/step - loss: 0.1487 - acc: 0.8511\n",
      "Epoch 10/30\n",
      "470/470 [==============================] - 0s 55us/step - loss: 0.1486 - acc: 0.8511\n",
      "Epoch 11/30\n",
      "470/470 [==============================] - 0s 57us/step - loss: 0.1498 - acc: 0.8447\n",
      "Epoch 12/30\n",
      "470/470 [==============================] - 0s 62us/step - loss: 0.1487 - acc: 0.8511\n",
      "Epoch 13/30\n",
      "470/470 [==============================] - 0s 57us/step - loss: 0.1485 - acc: 0.8511\n",
      "Epoch 14/30\n",
      "470/470 [==============================] - 0s 60us/step - loss: 0.1483 - acc: 0.8511\n",
      "Epoch 15/30\n",
      "470/470 [==============================] - 0s 62us/step - loss: 0.1485 - acc: 0.8511\n",
      "Epoch 16/30\n",
      "470/470 [==============================] - 0s 57us/step - loss: 0.1491 - acc: 0.8447\n",
      "Epoch 17/30\n",
      "470/470 [==============================] - 0s 57us/step - loss: 0.1479 - acc: 0.8489\n",
      "Epoch 18/30\n",
      "470/470 [==============================] - 0s 57us/step - loss: 0.1482 - acc: 0.8468\n",
      "Epoch 19/30\n",
      "470/470 [==============================] - 0s 60us/step - loss: 0.1477 - acc: 0.8511\n",
      "Epoch 20/30\n",
      "470/470 [==============================] - 0s 57us/step - loss: 0.1480 - acc: 0.8511\n",
      "Epoch 21/30\n",
      "470/470 [==============================] - 0s 57us/step - loss: 0.1475 - acc: 0.8511\n",
      "Epoch 22/30\n",
      "470/470 [==============================] - 0s 57us/step - loss: 0.1469 - acc: 0.8511\n",
      "Epoch 23/30\n",
      "470/470 [==============================] - 0s 57us/step - loss: 0.1467 - acc: 0.8511\n",
      "Epoch 24/30\n",
      "470/470 [==============================] - 0s 57us/step - loss: 0.1476 - acc: 0.8489\n",
      "Epoch 25/30\n",
      "470/470 [==============================] - 0s 60us/step - loss: 0.1471 - acc: 0.8511\n",
      "Epoch 26/30\n",
      "470/470 [==============================] - 0s 66us/step - loss: 0.1466 - acc: 0.8511\n",
      "Epoch 27/30\n",
      "470/470 [==============================] - 0s 55us/step - loss: 0.1473 - acc: 0.8511\n",
      "Epoch 28/30\n",
      "470/470 [==============================] - 0s 57us/step - loss: 0.1471 - acc: 0.8489\n",
      "Epoch 29/30\n",
      "470/470 [==============================] - 0s 57us/step - loss: 0.1471 - acc: 0.8489\n",
      "Epoch 30/30\n",
      "470/470 [==============================] - 0s 60us/step - loss: 0.1462 - acc: 0.8532\n"
     ]
    },
    {
     "data": {
      "text/plain": [
       "<keras.callbacks.History at 0xef23160>"
      ]
     },
     "execution_count": 7,
     "metadata": {},
     "output_type": "execute_result"
    }
   ],
   "source": [
    "# compile() : 학습 프로세스를 설정하는 기능\n",
    "model.compile(loss='mean_squared_error', optimizer='adam', \n",
    "              metrics=['accuracy'])\n",
    "# fit() : 학습 데이터로 학습하는 기능\n",
    "model.fit(X, Y, epochs=30, batch_size=10)"
   ]
  },
  {
   "cell_type": "code",
   "execution_count": 8,
   "metadata": {
    "colab": {
     "base_uri": "https://localhost:8080/",
     "height": 71
    },
    "colab_type": "code",
    "id": "VkQNcpi5LESw",
    "outputId": "467cec30-9877-44eb-981e-85aadf19be57"
   },
   "outputs": [
    {
     "name": "stdout",
     "output_type": "stream",
     "text": [
      "470/470 [==============================] - 0s 51us/step\n",
      "\n",
      "Accuracy: 0.8511\n"
     ]
    }
   ],
   "source": [
    "# evaluate() : 출력값과 metrics로 설정한 결과값을 반환\n",
    "print(\"\\nAccuracy: %.4f\" %(model.evaluate(X, Y)[1]))"
   ]
  },
  {
   "cell_type": "markdown",
   "metadata": {
    "colab_type": "text",
    "id": "mbmyYozeStBm"
   },
   "source": [
    "## 선형 회귀 복습"
   ]
  },
  {
   "cell_type": "code",
   "execution_count": 9,
   "metadata": {
    "colab": {
     "base_uri": "https://localhost:8080/",
     "height": 283
    },
    "colab_type": "code",
    "id": "Ocsloyd8SvwD",
    "outputId": "5e13a5f9-5f1e-43ae-fb16-0ee251a25940"
   },
   "outputs": [
    {
     "data": {
      "text/plain": [
       "<Figure size 640x480 with 1 Axes>"
      ]
     },
     "metadata": {},
     "output_type": "display_data"
    }
   ],
   "source": [
    "import matplotlib.pyplot as plt\n",
    "\n",
    "x = [2, 4, 6, 8]\n",
    "y = [81, 93, 91, 97]\n",
    "\n",
    "plt.plot(x, y, 'ro')\n",
    "plt.xlabel(\"time\")\n",
    "plt.ylabel(\"score\")\n",
    "plt.grid(True)\n",
    "plt.ylim(75, 100)\n",
    "plt.xlim(0, 10)\n",
    "plt.show()"
   ]
  },
  {
   "cell_type": "code",
   "execution_count": 10,
   "metadata": {
    "colab": {},
    "colab_type": "code",
    "id": "EX7B1pTjTNSC"
   },
   "outputs": [],
   "source": [
    "# 최소제곱법 계산\n",
    "def compute_a(x, mx, y, my):\n",
    "    d = 0\n",
    "\n",
    "    for i in range(len(x)):\n",
    "        d += (x[i] - mx)*(y[i] - my)\n",
    "\n",
    "    divisor = sum([(i - mx)**2 for i in x])\n",
    "\n",
    "    a_temp = d / divisor\n",
    "\n",
    "    return a_temp"
   ]
  },
  {
   "cell_type": "code",
   "execution_count": 11,
   "metadata": {
    "colab": {},
    "colab_type": "code",
    "id": "9TYsDUrSS-wy"
   },
   "outputs": [],
   "source": [
    "mx = np.mean(x)\n",
    "my = np.mean(y)"
   ]
  },
  {
   "cell_type": "code",
   "execution_count": 12,
   "metadata": {
    "colab": {},
    "colab_type": "code",
    "id": "huLqB6oGTZJJ"
   },
   "outputs": [],
   "source": [
    "a = compute_a(x, mx, y, my)\n",
    "b = my - (mx * a)\n",
    "\n",
    "y1 = [a * i + b for i in x]"
   ]
  },
  {
   "cell_type": "code",
   "execution_count": 13,
   "metadata": {
    "colab": {
     "base_uri": "https://localhost:8080/",
     "height": 283
    },
    "colab_type": "code",
    "id": "nCEXcJg2Td04",
    "outputId": "53fd2c37-bdc1-41e8-c763-e29f85853f78"
   },
   "outputs": [
    {
     "data": {
      "image/png": "[encoded data removed]",
      "text/plain": [
       "<Figure size 432x288 with 1 Axes>"
      ]
     },
     "metadata": {
      "needs_background": "light"
     },
     "output_type": "display_data"
    }
   ],
   "source": [
    "plt.plot(x, y, 'ro')\n",
    "plt.plot(x, y1, 'bo')\n",
    "plt.xlabel(\"time\")\n",
    "plt.ylabel(\"score\")\n",
    "plt.grid(True)\n",
    "plt.ylim(75, 100)\n",
    "plt.xlim(0, 10)\n",
    "plt.show()"
   ]
  },
  {
   "cell_type": "markdown",
   "metadata": {
    "colab_type": "text",
    "id": "llo0n57-TyLT"
   },
   "source": [
    "## 제소 제곱근 오차 (MSE)\n",
    "\n",
    "### a 값에 따른 오차 변화"
   ]
  },
  {
   "cell_type": "code",
   "execution_count": 14,
   "metadata": {
    "colab": {
     "base_uri": "https://localhost:8080/",
     "height": 283
    },
    "colab_type": "code",
    "id": "brosId0IT05e",
    "outputId": "64c83faa-8933-44f4-9d9f-2e25142579a8"
   },
   "outputs": [
    {
     "data": {
      "image/png": "[encoded data removed]",
      "text/plain": [
       "<Figure size 432x288 with 1 Axes>"
      ]
     },
     "metadata": {
      "needs_background": "light"
     },
     "output_type": "display_data"
    }
   ],
   "source": [
    "a = 3.0\n",
    "b = 79\n",
    "\n",
    "y1 = [a * i + b for i in x]\n",
    "\n",
    "plt.plot(x, y, 'ro')\n",
    "plt.plot(x, y1, 'bo')\n",
    "plt.xlabel(\"time\")\n",
    "plt.ylabel(\"score\")\n",
    "plt.grid(True)\n",
    "plt.ylim(75, 110)\n",
    "plt.xlim(0, 10)\n",
    "plt.show()"
   ]
  },
  {
   "cell_type": "code",
   "execution_count": 15,
   "metadata": {
    "colab": {
     "base_uri": "https://localhost:8080/",
     "height": 283
    },
    "colab_type": "code",
    "id": "m1CUvZO6T9mL",
    "outputId": "f836a28c-bcda-460e-f3f4-6519c2b32e54"
   },
   "outputs": [
    {
     "data": {
      "image/png": "[encoded data removed]",
      "text/plain": [
       "<Figure size 432x288 with 1 Axes>"
      ]
     },
     "metadata": {
      "needs_background": "light"
     },
     "output_type": "display_data"
    }
   ],
   "source": [
    "a = 1.5\n",
    "b = 79\n",
    "\n",
    "y1 = [a * i + b for i in x]\n",
    "\n",
    "plt.plot(x, y, 'ro')\n",
    "plt.plot(x, y1, 'bo')\n",
    "plt.xlabel(\"time\")\n",
    "plt.ylabel(\"score\")\n",
    "plt.grid(True)\n",
    "plt.ylim(75, 100)\n",
    "plt.xlim(0, 10)\n",
    "plt.show()"
   ]
  },
  {
   "cell_type": "code",
   "execution_count": 16,
   "metadata": {
    "colab": {},
    "colab_type": "code",
    "id": "BRP_W7QTUgdJ"
   },
   "outputs": [],
   "source": [
    "# 최소제곱근 오차 계산\n",
    "def mse(p, y):\n",
    "  temp = 0\n",
    "  for i in range(len(y)):\n",
    "    temp += ((p[i] - y[i]) ** 2)\n",
    "    \n",
    "    return np.sqrt(temp / len(y))"
   ]
  },
  {
   "cell_type": "code",
   "execution_count": 17,
   "metadata": {
    "colab": {
     "base_uri": "https://localhost:8080/",
     "height": 35
    },
    "colab_type": "code",
    "id": "-ogmOWzaUq3M",
    "outputId": "d56cc27c-c166-4321-d038-73d344f51556"
   },
   "outputs": [
    {
     "name": "stdout",
     "output_type": "stream",
     "text": [
      "오차값 :  1.2999999999999972\n"
     ]
    }
   ],
   "source": [
    "x = [2, 4, 6, 8]\n",
    "y = [81, 93, 91, 97]\n",
    "\n",
    "mx = np.mean(x)\n",
    "my = np.mean(y)\n",
    "\n",
    "a = compute_a(x, mx, y, my)\n",
    "b = my - (mx * a)\n",
    "\n",
    "y1 = [a * i + b for i in x]\n",
    "\n",
    "print(\"오차값 : \", mse(y1, y))"
   ]
  },
  {
   "cell_type": "markdown",
   "metadata": {
    "colab_type": "text",
    "id": "gsGpH4vHVUKK"
   },
   "source": [
    "## 경사하강법"
   ]
  },
  {
   "cell_type": "code",
   "execution_count": 18,
   "metadata": {
    "colab": {},
    "colab_type": "code",
    "id": "TXO1go4nVVxi"
   },
   "outputs": [],
   "source": [
    "x = [2, 4, 6, 8]\n",
    "y = [81, 93, 91, 97]\n",
    "\n",
    "# Tensorflow에서 사용하기 위한 변수 설정\n",
    "# tf.random_uniform([1]) : 정규분포 난수 1 (1행 1열)개를 생성 (균등분포)\n",
    "# 기울기 a (0-10사이 실수값)와 절편 b (0-100 사이 실수값)의 값을 임의로 정함\n",
    "# seed = 0 : 항상 동일한 데이터를 뽑도록 설정\n",
    "a = tf.Variable(tf.random_uniform([1], 0, 10, dtype=tf.float64, seed=0))\n",
    "b = tf.Variable(tf.random_uniform([1], 0, 100, dtype=tf.float64, seed=0))\n",
    "\n",
    "y1 = a * x + b\n",
    "\n",
    "# tf.sqrt() : 제곱근 함수\n",
    "# tf.reduce_mean() : 평균 계산 함수\n",
    "# tf.square() : 제곱 함수\n",
    "rmse = tf.sqrt(tf.reduce_mean(tf.square(y1 - y)))\n",
    "\n",
    "learning_rate = 0.1\n",
    "\n",
    "# tf.train : 경사 하강 알고리즘을 train 텐서에 연결\n",
    "# GradientDescentOptimizer() : 미분을 사용하여 최저 비용을 향해 학습률만큼 진행하도록 하는 함수\n",
    "# minimize(rmse) : rmse가 최소가 되는 값 검색 (최소 비용 함수) – 경사 하강\n",
    "gradient_decent = tf.train.GradientDescentOptimizer(learning_rate).minimize(rmse) "
   ]
  },
  {
   "cell_type": "code",
   "execution_count": 19,
   "metadata": {
    "colab": {
     "base_uri": "https://localhost:8080/",
     "height": 197
    },
    "colab_type": "code",
    "id": "S3lc4mcBVeV7",
    "outputId": "16d2dd89-b744-4014-f66e-19f3e3c980b7"
   },
   "outputs": [
    {
     "name": "stdout",
     "output_type": "stream",
     "text": [
      "Epoch:0, RMSE = 64.2341, 기울기 a = 2.0853, y 절편 b = 15.9056 \n",
      "Epoch:100, RMSE = 23.7391, 기울기 a = 11.9713, y 절편 b = 21.2854 \n",
      "Epoch:200, RMSE = 22.1433, 기울기 a = 11.3112, y 절편 b = 25.2252 \n",
      "Epoch:300, RMSE = 20.5515, 기울기 a = 10.6518, y 절편 b = 29.1601 \n",
      "Epoch:400, RMSE = 18.9646, 기울기 a = 9.9934, y 절편 b = 33.0889 \n",
      "Epoch:500, RMSE = 17.3840, 기울기 a = 9.3364, y 절편 b = 37.0099 \n",
      "Epoch:600, RMSE = 15.8116, 기울기 a = 8.6810, y 절편 b = 40.9208 \n",
      "Epoch:700, RMSE = 14.2499, 기울기 a = 8.0279, y 절편 b = 44.8183 \n",
      "Epoch:800, RMSE = 12.7029, 기울기 a = 7.3779, y 절편 b = 48.6975 \n",
      "Epoch:900, RMSE = 11.1762, 기울기 a = 6.7321, y 절편 b = 52.5511 \n"
     ]
    }
   ],
   "source": [
    "# tensor (다차원 배열)는 그래프 구조를 통해 노드에서 노드로 이동 (flow) -> 그래프 생성과 실행 단계가 필요\n",
    "# with tf.Session() as sess : 생성된 그래프를 실행하는 세션을 열여줌\n",
    "with tf.Session() as sess:\n",
    "    # tf.global_variables_initializer() : 그래프에 연결된 모든 변수를 초기화 (run() 함수 전에 수행해야 함)\n",
    "    # sess.run() : 세션을 구동\n",
    "    sess.run(tf.global_variables_initializer())\n",
    "\n",
    "    # 1000회 수행\n",
    "    for step in range(1000):\n",
    "        # sess.run(gradient_decent) : gradient_decent 노드의 계산을 실행\n",
    "        sess.run(gradient_decent)\n",
    "\n",
    "        # sess.run(rmse) : rmse 노드의 계산을 실행\n",
    "        # sess.run(a) : a 노드의 계산을 실행\n",
    "        # sess.run(b) : b 노드의 계산을 실행\n",
    "        if(step % 100 == 0):\n",
    "            print(\"Epoch:%.f, RMSE = %.04f, 기울기 a = %.4f, y 절편 b = %.4f \" %(step, sess.run(rmse), sess.run(a), sess.run(b)))"
   ]
  },
  {
   "cell_type": "markdown",
   "metadata": {
    "colab_type": "text",
    "id": "02-zwgWmXVXh"
   },
   "source": [
    "## 다중 회귀"
   ]
  },
  {
   "cell_type": "code",
   "execution_count": 20,
   "metadata": {
    "colab": {},
    "colab_type": "code",
    "id": "d73o3r-VXY47"
   },
   "outputs": [],
   "source": [
    "x1 = [2, 4, 6, 8]\n",
    "x2 = [0, 4, 2, 3]\n",
    "y = [81, 93, 91, 97]\n",
    "\n",
    "a1 = tf.Variable(tf.random_uniform([1], 0, 10, dtype=tf.float64, seed=0))\n",
    "a2 = tf.Variable(tf.random_uniform([1], 0, 10, dtype=tf.float64, seed=0))\n",
    "b = tf.Variable(tf.random_uniform([1], 0, 100, dtype=tf.float64, seed=0))\n",
    "\n",
    "y1 = a1 * x1 + a2 * x2 + b\n",
    "\n",
    "rmse = tf.sqrt(tf.reduce_mean(tf.square(y1 - y)))\n",
    "\n",
    "learning_rate = 0.1\n",
    "\n",
    "gradient_decent = tf.train.GradientDescentOptimizer(learning_rate).minimize(rmse) "
   ]
  },
  {
   "cell_type": "code",
   "execution_count": 21,
   "metadata": {
    "colab": {
     "base_uri": "https://localhost:8080/",
     "height": 197
    },
    "colab_type": "code",
    "id": "w20L9wjIXd7z",
    "outputId": "5d4b9c76-2ef9-4727-c63e-690cc1f779bf"
   },
   "outputs": [
    {
     "name": "stdout",
     "output_type": "stream",
     "text": [
      "Epoch:0, RMSE = 60.1285, 기울기 a1 = 2.0818, 기울기 a2 = 1.8078 y 절편 b = 15.9057\n",
      "Epoch:100, RMSE = 22.9252, 기울기 a1 = 9.7380, 기울기 a2 = 5.2504 y 절편 b = 20.9709\n",
      "Epoch:200, RMSE = 21.3389, 기울기 a1 = 9.1863, 기울기 a2 = 5.0048 y 절편 b = 24.9077\n",
      "Epoch:300, RMSE = 19.7529, 기울기 a1 = 8.6253, 기울기 a2 = 4.7796 y 절편 b = 28.8441\n",
      "Epoch:400, RMSE = 18.1669, 기울기 a1 = 8.0588, 기울기 a2 = 4.5668 y 절편 b = 32.7802\n",
      "Epoch:500, RMSE = 16.5810, 기울기 a1 = 7.4890, 기울기 a2 = 4.3611 y 절편 b = 36.7162\n",
      "Epoch:600, RMSE = 14.9952, 기울기 a1 = 6.9175, 기울기 a2 = 4.1594 y 절편 b = 40.6521\n",
      "Epoch:700, RMSE = 13.4095, 기울기 a1 = 6.3451, 기울기 a2 = 3.9598 y 절편 b = 44.5877\n",
      "Epoch:800, RMSE = 11.8240, 기울기 a1 = 5.7722, 기울기 a2 = 3.7612 y 절편 b = 48.5232\n",
      "Epoch:900, RMSE = 10.2387, 기울기 a1 = 5.1992, 기울기 a2 = 3.5631 y 절편 b = 52.4583\n"
     ]
    }
   ],
   "source": [
    "with tf.Session() as sess:\n",
    "    sess.run(tf.global_variables_initializer())\n",
    "\n",
    "    for step in range(1000):\n",
    "        sess.run(gradient_decent)\n",
    "\n",
    "        if(step % 100 == 0):\n",
    "           print(\"Epoch:%.f, RMSE = %.04f, 기울기 a1 = %.4f, 기울기 a2 = %.4f y 절편 b = %.4f\" %(step, sess.run(rmse), sess.run(a1), sess.run(a2), sess.run(b)))"
   ]
  },
  {
   "cell_type": "markdown",
   "metadata": {
    "colab_type": "text",
    "id": "dK-WgAE7Z47T"
   },
   "source": [
    "## (실습) learning rate를 변경하면서 RMSE 변경 확인"
   ]
  },
  {
   "cell_type": "markdown",
   "metadata": {
    "colab_type": "text",
    "id": "lnBnoMKsZXVC"
   },
   "source": [
    "## 로지스틱 회귀"
   ]
  },
  {
   "cell_type": "code",
   "execution_count": 22,
   "metadata": {
    "colab": {
     "base_uri": "https://localhost:8080/",
     "height": 283
    },
    "colab_type": "code",
    "id": "C9DMaZGhZbHa",
    "outputId": "66aee04c-0c1e-47b3-a367-a75c3442dba5"
   },
   "outputs": [
    {
     "data": {
      "image/png": "[encoded data removed]",
      "text/plain": [
       "<Figure size 432x288 with 1 Axes>"
      ]
     },
     "metadata": {
      "needs_background": "light"
     },
     "output_type": "display_data"
    }
   ],
   "source": [
    "x = [2, 4, 6, 8, 10, 12, 14]\n",
    "y = [0, 0, 0, 1, 1, 1, 1]\n",
    "\n",
    "plt.plot(x, y, 'ro')\n",
    "plt.xlabel(\"time\")\n",
    "plt.ylabel(\"score\")\n",
    "plt.grid(True)\n",
    "plt.ylim(-0.5, 1.5)\n",
    "plt.xlim(0, 16)\n",
    "plt.show()"
   ]
  },
  {
   "cell_type": "markdown",
   "metadata": {
    "colab_type": "text",
    "id": "gnNApievZoJc"
   },
   "source": [
    "### 시그모이드 함수"
   ]
  },
  {
   "cell_type": "code",
   "execution_count": 23,
   "metadata": {
    "colab": {
     "base_uri": "https://localhost:8080/",
     "height": 269
    },
    "colab_type": "code",
    "id": "ScGPjo9OZpuq",
    "outputId": "86bac5de-bffa-494b-bdd2-f4fed0ba8e1c"
   },
   "outputs": [
    {
     "data": {
      "image/png": "[encoded data removed]",
      "text/plain": [
       "<Figure size 432x288 with 1 Axes>"
      ]
     },
     "metadata": {
      "needs_background": "light"
     },
     "output_type": "display_data"
    }
   ],
   "source": [
    "def sigmoid(a, x, b):\n",
    "    return 1 / (1 + np.exp(-a * x + b))\n",
    "\n",
    "a = 1\n",
    "x = np.arange(-5.0, 5.0, 0.1)\n",
    "b = 0\n",
    "y = sigmoid(a, x, b)\n",
    "\n",
    "plt.plot(x, y)\n",
    "plt.ylim(-0.1, 1.1)\n",
    "plt.grid(True)\n",
    "plt.show()"
   ]
  },
  {
   "cell_type": "markdown",
   "metadata": {
    "colab_type": "text",
    "id": "4xOpCcCeZybq"
   },
   "source": [
    "## (실습) a, b 값을 변경하면서 변화를 확인"
   ]
  },
  {
   "cell_type": "code",
   "execution_count": 24,
   "metadata": {
    "colab": {
     "base_uri": "https://localhost:8080/",
     "height": 271
    },
    "colab_type": "code",
    "id": "Mr75f7XZaG_q",
    "outputId": "7f5fe581-585d-4dc8-92be-ffbdc1af5dac"
   },
   "outputs": [
    {
     "name": "stderr",
     "output_type": "stream",
     "text": [
      "W0713 12:49:06.202986  8152 deprecation.py:323] From C:\\Users\\pc-23\\Anaconda32\\lib\\site-packages\\tensorflow\\python\\ops\\math_grad.py:1205: add_dispatch_support.<locals>.wrapper (from tensorflow.python.ops.array_ops) is deprecated and will be removed in a future version.\n",
      "Instructions for updating:\n",
      "Use tf.where in 2.0, which has the same broadcast rule as np.where\n"
     ]
    },
    {
     "name": "stdout",
     "output_type": "stream",
     "text": [
      "Epoch:0, loss = 4.2261, 기울기 a = 2.3616, y 절편 b = -0.4124\n",
      "Epoch:100, loss = 0.1978, 기울기 a = 0.6316, y 절편 b = 5.0417\n",
      "Epoch:200, loss = 0.1145, 기울기 a = 0.9502, y 절편 b = 6.3934\n",
      "Epoch:300, loss = 0.0983, 기울기 a = 1.0752, y 절편 b = 7.2832\n",
      "Epoch:400, loss = 0.0873, 기울기 a = 1.1781, y 절편 b = 8.0197\n",
      "Epoch:500, loss = 0.0790, 기울기 a = 1.2673, y 절편 b = 8.6562\n",
      "Epoch:600, loss = 0.0725, 기울기 a = 1.3467, y 절편 b = 9.2213\n",
      "Epoch:700, loss = 0.0672, 기울기 a = 1.4188, y 절편 b = 9.7322\n",
      "Epoch:800, loss = 0.0627, 기울기 a = 1.4848, y 절편 b = 10.2004\n",
      "Epoch:900, loss = 0.0589, 기울기 a = 1.5461, y 절편 b = 10.6337\n"
     ]
    }
   ],
   "source": [
    "x = [2, 4, 6, 8, 10, 12, 14]\n",
    "y = [0, 0, 0, 1, 1, 1, 1]\n",
    "\n",
    "a = tf.Variable(tf.random_normal([1], dtype=tf.float64, seed=0))\n",
    "b = tf.Variable(tf.random_normal([1], dtype=tf.float64, seed=0))\n",
    "\n",
    "h = 1 / (1 + np.e**(-a * x + b))\n",
    "\n",
    "loss = -tf.reduce_mean(np.array(y) * tf.log(h) + (1 - np.array(y)) * tf.log(1 - h))\n",
    "\n",
    "learning_rate = 0.5\n",
    "gradient_decent = tf.train.GradientDescentOptimizer(learning_rate).minimize(loss)\n",
    "\n",
    "with tf.Session() as sess:\n",
    "    sess.run(tf.global_variables_initializer())\n",
    "    for step in range(1000):\n",
    "        sess.run(gradient_decent)\n",
    "        if(step % 100 == 0):\n",
    "            print(\"Epoch:%.f, loss = %.04f, 기울기 a = %.4f, y 절편 b = %.4f\"\n",
    "                   %(step, sess.run(loss), sess.run(a), sess.run(b)))\n",
    "\n"
   ]
  },
  {
   "cell_type": "markdown",
   "metadata": {
    "colab_type": "text",
    "id": "m2sMA3rCaY8v"
   },
   "source": [
    "### 학습을 7시간 한 경우 합격여부는 ?"
   ]
  },
  {
   "cell_type": "code",
   "execution_count": 25,
   "metadata": {
    "colab": {
     "base_uri": "https://localhost:8080/",
     "height": 215
    },
    "colab_type": "code",
    "id": "uG0Jyfj6adai",
    "outputId": "0dcd3547-618d-4d54-c2ee-716af374ab3d"
   },
   "outputs": [
    {
     "name": "stdout",
     "output_type": "stream",
     "text": [
      "Epoch:0, loss = 4.2261, 기울기 a = 2.3616, y 절편 b = -0.4124\n",
      "Epoch:100, loss = 0.1978, 기울기 a = 0.6316, y 절편 b = 5.0417\n",
      "Epoch:200, loss = 0.1145, 기울기 a = 0.9502, y 절편 b = 6.3934\n",
      "Epoch:300, loss = 0.0983, 기울기 a = 1.0752, y 절편 b = 7.2832\n",
      "Epoch:400, loss = 0.0873, 기울기 a = 1.1781, y 절편 b = 8.0197\n",
      "Epoch:500, loss = 0.0790, 기울기 a = 1.2673, y 절편 b = 8.6562\n",
      "Epoch:600, loss = 0.0725, 기울기 a = 1.3467, y 절편 b = 9.2213\n",
      "Epoch:700, loss = 0.0672, 기울기 a = 1.4188, y 절편 b = 9.7322\n",
      "Epoch:800, loss = 0.0627, 기울기 a = 1.4848, y 절편 b = 10.2004\n",
      "Epoch:900, loss = 0.0589, 기울기 a = 1.5461, y 절편 b = 10.6337\n",
      "[0.54707706]\n"
     ]
    }
   ],
   "source": [
    "x = [2, 4, 6, 8, 10, 12, 14]\n",
    "y = [0, 0, 0, 1, 1, 1, 1]\n",
    "\n",
    "a = tf.Variable(tf.random_normal([1], dtype=tf.float64, seed=0))\n",
    "b = tf.Variable(tf.random_normal([1], dtype=tf.float64, seed=0))\n",
    "\n",
    "h = 1 / (1 + np.e**(-a * x + b))\n",
    "\n",
    "loss = -tf.reduce_mean(np.array(y) * tf.log(h) + (1 - np.array(y)) * tf.log(1 - h))\n",
    "\n",
    "learning_rate = 0.5\n",
    "gradient_decent = tf.train.GradientDescentOptimizer(learning_rate).minimize(loss)\n",
    "\n",
    "with tf.Session() as sess:\n",
    "    sess.run(tf.global_variables_initializer())\n",
    "    for step in range(1000):\n",
    "        sess.run(gradient_decent)\n",
    "        \n",
    "        if(step % 100 == 0):\n",
    "            result_a = sess.run(a)\n",
    "            result_b = sess.run(b)\n",
    "            print(\"Epoch:%.f, loss = %.04f, 기울기 a = %.4f, y 절편 b = %.4f\"\n",
    "                   %(step, sess.run(loss), result_a, result_b))\n",
    "\n",
    "h = 1 / (1 + np.e**(-result_a * 7 + result_b))\n",
    "print(h)"
   ]
  },
  {
   "cell_type": "code",
   "execution_count": null,
   "metadata": {},
   "outputs": [],
   "source": []
  },
  {
   "cell_type": "code",
   "execution_count": null,
   "metadata": {},
   "outputs": [],
   "source": []
  },
  {
   "cell_type": "code",
   "execution_count": null,
   "metadata": {},
   "outputs": [],
   "source": []
  },
  {
   "cell_type": "code",
   "execution_count": null,
   "metadata": {},
   "outputs": [],
   "source": []
  },
  {
   "cell_type": "code",
   "execution_count": null,
   "metadata": {},
   "outputs": [],
   "source": []
  },
  {
   "cell_type": "code",
   "execution_count": null,
   "metadata": {},
   "outputs": [],
   "source": []
  },
  {
   "cell_type": "code",
   "execution_count": null,
   "metadata": {},
   "outputs": [],
   "source": []
  },
  {
   "cell_type": "code",
   "execution_count": null,
   "metadata": {},
   "outputs": [],
   "source": []
  },
  {
   "cell_type": "code",
   "execution_count": null,
   "metadata": {},
   "outputs": [],
   "source": []
  },
  {
   "cell_type": "code",
   "execution_count": null,
   "metadata": {},
   "outputs": [],
   "source": []
  },
  {
   "cell_type": "code",
   "execution_count": null,
   "metadata": {},
   "outputs": [],
   "source": []
  },
  {
   "cell_type": "code",
   "execution_count": null,
   "metadata": {},
   "outputs": [],
   "source": []
  },
  {
   "cell_type": "code",
   "execution_count": null,
   "metadata": {},
   "outputs": [],
   "source": []
  },
  {
   "cell_type": "code",
   "execution_count": null,
   "metadata": {},
   "outputs": [],
   "source": []
  }
 ],
 "metadata": {
  "colab": {
   "name": "DL01_딥러닝기초.ipynb",
   "provenance": [],
   "version": "0.3.2"
  },
  "kernelspec": {
   "display_name": "Python 3",
   "language": "python",
   "name": "python3"
  },
  "language_info": {
   "codemirror_mode": {
    "name": "ipython",
    "version": 3
   },
   "file_extension": ".py",
   "mimetype": "text/x-python",
   "name": "python",
   "nbconvert_exporter": "python",
   "pygments_lexer": "ipython3",
   "version": "3.7.3"
  }
 },
 "nbformat": 4,
 "nbformat_minor": 1
}
