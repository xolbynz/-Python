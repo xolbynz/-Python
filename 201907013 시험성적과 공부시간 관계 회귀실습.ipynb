{
 "cells": [
  {
   "cell_type": "code",
   "execution_count": 5,
   "metadata": {},
   "outputs": [],
   "source": [
    "%matplotlib inline"
   ]
  },
  {
   "cell_type": "code",
   "execution_count": 6,
   "metadata": {},
   "outputs": [
    {
     "data": {
      "image/png": "[encoded data removed]",
      "text/plain": [
       "<Figure size 432x288 with 1 Axes>"
      ]
     },
     "metadata": {
      "needs_background": "light"
     },
     "output_type": "display_data"
    }
   ],
   "source": [
    "import matplotlib.pyplot as plt\n",
    "\n",
    "x = [2, 4, 6, 8]\n",
    "y = [81, 93, 91, 97]\n",
    "\n",
    "plt.plot(x, y, 'ro')\n",
    "plt.xlabel(\"time\")\n",
    "plt.ylabel(\"score\")\n",
    "plt.grid(True)\n",
    "plt.ylim(75, 100)\n",
    "plt.xlim(0, 10)\n",
    "plt.show()"
   ]
  },
  {
   "cell_type": "code",
   "execution_count": 7,
   "metadata": {},
   "outputs": [],
   "source": [
    "# 최소제곱법 계산\n",
    "def compute_a(x, mx, y, my):\n",
    "    d = 0\n",
    "\n",
    "    for i in range(len(x)):\n",
    "        d += (x[i] - mx)*(y[i] - my)\n",
    "\n",
    "    divisor = sum([(i - mx)**2 for i in x])\n",
    "\n",
    "    a_temp = d / divisor\n",
    "\n",
    "    return a_temp"
   ]
  },
  {
   "cell_type": "code",
   "execution_count": 8,
   "metadata": {},
   "outputs": [],
   "source": [
    "mx = np.mean(x)\n",
    "my = np.mean(y)"
   ]
  },
  {
   "cell_type": "code",
   "execution_count": 9,
   "metadata": {},
   "outputs": [],
   "source": [
    "a = compute_a(x, mx, y, my)\n",
    "b = my - (mx * a)\n",
    "\n",
    "y1 = [a * i + b for i in x]"
   ]
  },
  {
   "cell_type": "code",
   "execution_count": 10,
   "metadata": {
    "scrolled": false
   },
   "outputs": [
    {
     "data": {
      "image/png": "[encoded data removed]",
      "text/plain": [
       "<Figure size 432x288 with 1 Axes>"
      ]
     },
     "metadata": {
      "needs_background": "light"
     },
     "output_type": "display_data"
    }
   ],
   "source": [
    "plt.plot(x, y, 'ro')\n",
    "plt.plot(x, y1, 'bo')\n",
    "plt.xlabel(\"time\")\n",
    "plt.ylabel(\"score\")\n",
    "plt.grid(True)\n",
    "plt.ylim(75, 100)\n",
    "plt.xlim(0, 10)\n",
    "plt.show()"
   ]
  },
  {
   "cell_type": "markdown",
   "metadata": {},
   "source": [
    "## 제소 제곱근 오차 (MSE)\n",
    "\n",
    "### a 값에 따른 오차 변화"
   ]
  },
  {
   "cell_type": "code",
   "execution_count": 11,
   "metadata": {
    "scrolled": true
   },
   "outputs": [
    {
     "data": {
      "image/png": "[encoded data removed]",
      "text/plain": [
       "<Figure size 432x288 with 1 Axes>"
      ]
     },
     "metadata": {
      "needs_background": "light"
     },
     "output_type": "display_data"
    }
   ],
   "source": [
    "a = 3.0\n",
    "b = 79\n",
    "\n",
    "y1 = [a * i + b for i in x]\n",
    "\n",
    "plt.plot(x, y, 'ro')\n",
    "plt.plot(x, y1, 'bo')\n",
    "plt.xlabel(\"time\")\n",
    "plt.ylabel(\"score\")\n",
    "plt.grid(True)\n",
    "plt.ylim(75, 110)\n",
    "plt.xlim(0, 10)\n",
    "plt.show()"
   ]
  },
  {
   "cell_type": "code",
   "execution_count": 12,
   "metadata": {
    "scrolled": true
   },
   "outputs": [
    {
     "data": {
      "image/png": "[encoded data removed]",
      "text/plain": [
       "<Figure size 432x288 with 1 Axes>"
      ]
     },
     "metadata": {
      "needs_background": "light"
     },
     "output_type": "display_data"
    }
   ],
   "source": [
    "a = 1.5\n",
    "b = 79\n",
    "\n",
    "y1 = [a * i + b for i in x]\n",
    "\n",
    "plt.plot(x, y, 'ro')\n",
    "plt.plot(x, y1, 'bo')\n",
    "plt.xlabel(\"time\")\n",
    "plt.ylabel(\"score\")\n",
    "plt.grid(True)\n",
    "plt.ylim(75, 100)\n",
    "plt.xlim(0, 10)\n",
    "plt.show()"
   ]
  },
  {
   "cell_type": "code",
   "execution_count": 15,
   "metadata": {},
   "outputs": [],
   "source": [
    "# 최소제곱근 오차 계산\n",
    "def mse(p, y):\n",
    "  temp = 0\n",
    "  for i in range(len(y)):\n",
    "    temp += ((p[i] - y[i]) ** 2)\n",
    "    \n",
    "    return np.sqrt(temp / len(y))"
   ]
  },
  {
   "cell_type": "code",
   "execution_count": 16,
   "metadata": {},
   "outputs": [
    {
     "name": "stdout",
     "output_type": "stream",
     "text": [
      "오차값 :  1.2999999999999972\n"
     ]
    }
   ],
   "source": [
    "x = [2, 4, 6, 8]\n",
    "y = [81, 93, 91, 97]\n",
    "\n",
    "mx = np.mean(x)\n",
    "my = np.mean(y)\n",
    "\n",
    "a = compute_a(x, mx, y, my)\n",
    "b = my - (mx * a)\n",
    "\n",
    "y1 = [a * i + b for i in x]\n",
    "\n",
    "print(\"오차값 : \", mse(y1, y))"
   ]
  },
  {
   "cell_type": "markdown",
   "metadata": {},
   "source": [
    "# 경사하강법~"
   ]
  },
  {
   "cell_type": "code",
   "execution_count": 17,
   "metadata": {},
   "outputs": [
    {
     "ename": "NameError",
     "evalue": "name 'tf' is not defined",
     "output_type": "error",
     "traceback": [
      "\u001b[1;31m---------------------------------------------------------------------------\u001b[0m",
      "\u001b[1;31mNameError\u001b[0m                                 Traceback (most recent call last)",
      "\u001b[1;32m<ipython-input-17-eb60a393dab6>\u001b[0m in \u001b[0;36m<module>\u001b[1;34m\u001b[0m\n\u001b[0;32m      6\u001b[0m \u001b[1;31m# 기울기 a (0-10사이 실수값)와 절편 b (0-100 사이 실수값)의 값을 임의로 정함\u001b[0m\u001b[1;33m\u001b[0m\u001b[1;33m\u001b[0m\u001b[1;33m\u001b[0m\u001b[0m\n\u001b[0;32m      7\u001b[0m \u001b[1;31m# seed = 0 : 항상 동일한 데이터를 뽑도록 설정\u001b[0m\u001b[1;33m\u001b[0m\u001b[1;33m\u001b[0m\u001b[1;33m\u001b[0m\u001b[0m\n\u001b[1;32m----> 8\u001b[1;33m \u001b[0ma\u001b[0m \u001b[1;33m=\u001b[0m \u001b[0mtf\u001b[0m\u001b[1;33m.\u001b[0m\u001b[0mVariable\u001b[0m\u001b[1;33m(\u001b[0m\u001b[0mtf\u001b[0m\u001b[1;33m.\u001b[0m\u001b[0mrandom_uniform\u001b[0m\u001b[1;33m(\u001b[0m\u001b[1;33m[\u001b[0m\u001b[1;36m1\u001b[0m\u001b[1;33m]\u001b[0m\u001b[1;33m,\u001b[0m \u001b[1;36m0\u001b[0m\u001b[1;33m,\u001b[0m \u001b[1;36m10\u001b[0m\u001b[1;33m,\u001b[0m \u001b[0mdtype\u001b[0m\u001b[1;33m=\u001b[0m\u001b[0mtf\u001b[0m\u001b[1;33m.\u001b[0m\u001b[0mfloat64\u001b[0m\u001b[1;33m,\u001b[0m \u001b[0mseed\u001b[0m\u001b[1;33m=\u001b[0m\u001b[1;36m0\u001b[0m\u001b[1;33m)\u001b[0m\u001b[1;33m)\u001b[0m\u001b[1;33m\u001b[0m\u001b[1;33m\u001b[0m\u001b[0m\n\u001b[0m\u001b[0;32m      9\u001b[0m \u001b[0mb\u001b[0m \u001b[1;33m=\u001b[0m \u001b[0mtf\u001b[0m\u001b[1;33m.\u001b[0m\u001b[0mVariable\u001b[0m\u001b[1;33m(\u001b[0m\u001b[0mtf\u001b[0m\u001b[1;33m.\u001b[0m\u001b[0mrandom_uniform\u001b[0m\u001b[1;33m(\u001b[0m\u001b[1;33m[\u001b[0m\u001b[1;36m1\u001b[0m\u001b[1;33m]\u001b[0m\u001b[1;33m,\u001b[0m \u001b[1;36m0\u001b[0m\u001b[1;33m,\u001b[0m \u001b[1;36m100\u001b[0m\u001b[1;33m,\u001b[0m \u001b[0mdtype\u001b[0m\u001b[1;33m=\u001b[0m\u001b[0mtf\u001b[0m\u001b[1;33m.\u001b[0m\u001b[0mfloat64\u001b[0m\u001b[1;33m,\u001b[0m \u001b[0mseed\u001b[0m\u001b[1;33m=\u001b[0m\u001b[1;36m0\u001b[0m\u001b[1;33m)\u001b[0m\u001b[1;33m)\u001b[0m\u001b[1;33m\u001b[0m\u001b[1;33m\u001b[0m\u001b[0m\n\u001b[0;32m     10\u001b[0m \u001b[1;33m\u001b[0m\u001b[0m\n",
      "\u001b[1;31mNameError\u001b[0m: name 'tf' is not defined"
     ]
    }
   ],
   "source": [
    "x = [2, 4, 6, 8]\n",
    "y = [81, 93, 91, 97]\n",
    "\n",
    "# Tensorflow에서 사용하기 위한 변수 설정\n",
    "# tf.random_uniform([1]) : 정규분포 난수 1 (1행 1열)개를 생성 (균등분포)\n",
    "# 기울기 a (0-10사이 실수값)와 절편 b (0-100 사이 실수값)의 값을 임의로 정함\n",
    "# seed = 0 : 항상 동일한 데이터를 뽑도록 설정\n",
    "a = tf.Variable(tf.random_uniform([1], 0, 10, dtype=tf.float64, seed=0))\n",
    "b = tf.Variable(tf.random_uniform([1], 0, 100, dtype=tf.float64, seed=0))\n",
    "\n",
    "y1 = a * x + b\n",
    "\n",
    "# tf.sqrt() : 제곱근 함수\n",
    "# tf.reduce_mean() : 평균 계산 함수\n",
    "# tf.square() : 제곱 함수\n",
    "rmse = tf.sqrt(tf.reduce_mean(tf.square(y1 - y)))\n",
    "\n",
    "learning_rate = 0.1\n",
    "\n",
    "# tf.train : 경사 하강 알고리즘을 train 텐서에 연결\n",
    "# GradientDescentOptimizer() : 미분을 사용하여 최저 비용을 향해 학습률만큼 진행하도록 하는 함수\n",
    "# minimize(rmse) : rmse가 최소가 되는 값 검색 (최소 비용 함수) – 경사 하강\n",
    "gradient_decent = tf.train.GradientDescentOptimizer(learning_rate).minimize(rmse) "
   ]
  }
 ],
 "metadata": {
  "kernelspec": {
   "display_name": "Python 3",
   "language": "python",
   "name": "python3"
  },
  "language_info": {
   "codemirror_mode": {
    "name": "ipython",
    "version": 3
   },
   "file_extension": ".py",
   "mimetype": "text/x-python",
   "name": "python",
   "nbconvert_exporter": "python",
   "pygments_lexer": "ipython3",
   "version": "3.7.3"
  }
 },
 "nbformat": 4,
 "nbformat_minor": 2
}
