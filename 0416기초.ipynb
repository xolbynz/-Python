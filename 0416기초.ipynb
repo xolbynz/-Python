{
 "cells": [
  {
   "cell_type": "code",
   "execution_count": 83,
   "metadata": {},
   "outputs": [
    {
     "data": {
      "text/plain": [
       "4"
      ]
     },
     "execution_count": 83,
     "metadata": {},
     "output_type": "execute_result"
    }
   ],
   "source": [
    "1+3"
   ]
  },
  {
   "cell_type": "markdown",
   "metadata": {},
   "source": [
    "### 주석은 #"
   ]
  },
  {
   "cell_type": "markdown",
   "metadata": {},
   "source": [
    "### Markdown(여기에서 샵을 붙이면 굵어지고, 여러개 붙이면 사이즈 변경가능)\n",
    "일반메모도 가능해유"
   ]
  },
  {
   "cell_type": "code",
   "execution_count": 5,
   "metadata": {},
   "outputs": [
    {
     "name": "stdout",
     "output_type": "stream",
     "text": [
      "10\n"
     ]
    }
   ],
   "source": [
    "7+1\n",
    "print(7+3)"
   ]
  },
  {
   "cell_type": "markdown",
   "metadata": {},
   "source": [
    "### 파이썬은 문자열을 (\")이든 (')이든 모두 가능함 하지만 헷갈리지 않도록 나는 \"\"를 쓰자"
   ]
  },
  {
   "cell_type": "code",
   "execution_count": 82,
   "metadata": {},
   "outputs": [
    {
     "name": "stdout",
     "output_type": "stream",
     "text": [
      "안녕\n"
     ]
    }
   ],
   "source": [
    "print(\"안녕\")\n",
    "print('안녕')"
   ]
  },
  {
   "cell_type": "code",
   "execution_count": 23,
   "metadata": {},
   "outputs": [
    {
     "name": "stdout",
     "output_type": "stream",
     "text": [
      "3\n",
      "아침\n",
      "a와 b의 값은 3 아침\n",
      "a + c = 10\n"
     ]
    }
   ],
   "source": [
    "a = 3\n",
    "b = \"아침\"\n",
    "c = 7\n",
    "print (a)\n",
    "print (b)\n",
    "print (\"a와 b의 값은\", a, b)\n",
    "print (\"a + c =\", a+c)"
   ]
  },
  {
   "cell_type": "code",
   "execution_count": 24,
   "metadata": {},
   "outputs": [
    {
     "name": "stdout",
     "output_type": "stream",
     "text": [
      "윗 줄에서는 a에 3을 대입했지만 여기에서 10을 대입했으므로 아래에서 a의 값은 이것이다_ 10\n"
     ]
    }
   ],
   "source": [
    "a = 10\n",
    "print(\"윗 줄에서는 a에 3을 대입했지만 여기에서 10을 대입했으므로 아래에서 a의 값은 이것이다_\", a)"
   ]
  },
  {
   "cell_type": "code",
   "execution_count": 28,
   "metadata": {},
   "outputs": [
    {
     "name": "stdout",
     "output_type": "stream",
     "text": [
      "Ganji는 간지\n",
      "ganji는 노간지\n"
     ]
    }
   ],
   "source": [
    "Ganji = \"간지\"\n",
    "ganji = \"노간지\"\n",
    "print(\"Ganji는\", Ganji)\n",
    "print(\"ganji는\", ganji)#당연히 변수 대문자소문자 구문"
   ]
  },
  {
   "cell_type": "markdown",
   "metadata": {},
   "source": [
    "### 파이썬은 자료형을 따로 지정해주지 않아도 자동으로 할당된다."
   ]
  },
  {
   "cell_type": "code",
   "execution_count": 32,
   "metadata": {
    "collapsed": true
   },
   "outputs": [],
   "source": [
    "a = 10\n",
    "b = 3.14"
   ]
  },
  {
   "cell_type": "code",
   "execution_count": 33,
   "metadata": {},
   "outputs": [
    {
     "data": {
      "text/plain": [
       "'Hello, Python'"
      ]
     },
     "execution_count": 33,
     "metadata": {},
     "output_type": "execute_result"
    }
   ],
   "source": [
    "s = \"Hello, Python\"\n",
    "s"
   ]
  },
  {
   "cell_type": "code",
   "execution_count": 36,
   "metadata": {},
   "outputs": [
    {
     "name": "stdout",
     "output_type": "stream",
     "text": [
      "10\n"
     ]
    },
    {
     "data": {
      "text/plain": [
       "15"
      ]
     },
     "execution_count": 36,
     "metadata": {},
     "output_type": "execute_result"
    }
   ],
   "source": [
    "a,b = 10,15 #변수 정의 할 때 한 행에서 함께 정의할 수 있다.\n",
    "print(a)\n",
    "b"
   ]
  },
  {
   "cell_type": "code",
   "execution_count": 41,
   "metadata": {},
   "outputs": [
    {
     "name": "stdout",
     "output_type": "stream",
     "text": [
      "python\n"
     ]
    },
    {
     "data": {
      "text/plain": [
       "'python'"
      ]
     },
     "execution_count": 41,
     "metadata": {},
     "output_type": "execute_result"
    }
   ],
   "source": [
    "s1 = \"python\"\n",
    "s2 = \"python\"\n",
    "print(s1)\n",
    "s2"
   ]
  },
  {
   "cell_type": "code",
   "execution_count": 42,
   "metadata": {},
   "outputs": [
    {
     "data": {
      "text/plain": [
       "300"
      ]
     },
     "execution_count": 42,
     "metadata": {},
     "output_type": "execute_result"
    }
   ],
   "source": [
    "x, y = 100, 200\n",
    "sum = x+y\n",
    "sum"
   ]
  },
  {
   "cell_type": "code",
   "execution_count": 47,
   "metadata": {},
   "outputs": [
    {
     "name": "stdout",
     "output_type": "stream",
     "text": [
      "Python's favorite food is peal\n",
      "Python's favorite food is peal\n",
      "Python's favorite food is peal\n"
     ]
    }
   ],
   "source": [
    "print(\"Python's favorite food is peal\")\n",
    "print(\"Python\\'s favorite food is peal\")\n",
    "print('Python\\'s favorite food is peal')#따옴표나 작은따옴표를 표시하고 싶으면 앞에 \\"
   ]
  },
  {
   "cell_type": "code",
   "execution_count": 52,
   "metadata": {},
   "outputs": [
    {
     "data": {
      "text/plain": [
       "'Life is too short\\nYou need python'"
      ]
     },
     "execution_count": 52,
     "metadata": {},
     "output_type": "execute_result"
    }
   ],
   "source": [
    "multiline = \"Life is too short\\nYou need python\"# \\n은 엔터 다른 언어랑 똑같\n",
    "multiline"
   ]
  },
  {
   "cell_type": "markdown",
   "metadata": {},
   "source": [
    "### 주석보다 훨신 주석같은 느낌이 드는 방법 \"\"\" 여기 사이에 쓰기\"\"\"(세개씩"
   ]
  },
  {
   "cell_type": "code",
   "execution_count": 55,
   "metadata": {},
   "outputs": [
    {
     "name": "stdout",
     "output_type": "stream",
     "text": [
      "\n",
      "dssdfsd\n",
      "sedfsdsef\n",
      "sadfsdfafasd\n",
      "asdasd\n",
      "asd\n",
      "da\n",
      "asd\n",
      "sdf\n",
      "\n"
     ]
    }
   ],
   "source": [
    "print(\"\"\"\n",
    "dssdfsd\n",
    "sedfsdsef\n",
    "sadfsdfafasd\n",
    "asdasd\n",
    "asd\n",
    "da\n",
    "asd\n",
    "sdf\n",
    "\"\"\")"
   ]
  },
  {
   "cell_type": "markdown",
   "metadata": {},
   "source": [
    "### 문자열은 자동으로 인덱스가 부여되므로 출력하여 확인(뒤집어서도 가능)"
   ]
  },
  {
   "cell_type": "code",
   "execution_count": 61,
   "metadata": {},
   "outputs": [
    {
     "name": "stdout",
     "output_type": "stream",
     "text": [
      "L\n",
      "s\n",
      "n\n"
     ]
    },
    {
     "data": {
      "text/plain": [
       "'Life'"
      ]
     },
     "execution_count": 61,
     "metadata": {},
     "output_type": "execute_result"
    }
   ],
   "source": [
    "s = \"Life is too short, You need Python\"\n",
    "print(s[0])\n",
    "print(s[12])\n",
    "print(s[-1])\n",
    "temp = s[0] + s[1] + s[2] + s[3]\n",
    "temp"
   ]
  },
  {
   "cell_type": "code",
   "execution_count": 62,
   "metadata": {},
   "outputs": [
    {
     "name": "stdout",
     "output_type": "stream",
     "text": [
      "short\n"
     ]
    }
   ],
   "source": [
    "print(s[12:17]) #인덱스 12부터 17미만까지"
   ]
  },
  {
   "cell_type": "code",
   "execution_count": 75,
   "metadata": {},
   "outputs": [
    {
     "name": "stdout",
     "output_type": "stream",
     "text": [
      "You need Python\n",
      "You need Python\n",
      "Life is too short\n"
     ]
    }
   ],
   "source": [
    "print(s[19:34])\n",
    "print(s[19:]) #마지막 인덱스까지 쓰고싶으면 뒤에를 비우기\n",
    "print(s[:17])"
   ]
  },
  {
   "cell_type": "code",
   "execution_count": 76,
   "metadata": {},
   "outputs": [
    {
     "name": "stdout",
     "output_type": "stream",
     "text": [
      "Life is too short, You need Python\n"
     ]
    }
   ],
   "source": [
    "print(s[:])#전체행을 쓰려고 하면 열~~을 위해 아무튼 콜론:은 꼭 쓰기"
   ]
  },
  {
   "cell_type": "code",
   "execution_count": 81,
   "metadata": {},
   "outputs": [
    {
     "name": "stdout",
     "output_type": "stream",
     "text": [
      "year : 2001\n",
      "day : 0331\n",
      "weather : Rainy\n"
     ]
    }
   ],
   "source": [
    "s = \"20010331Rainy\"\n",
    "print(\"year :\", s[:4])\n",
    "print(\"day :\", s[4:8])\n",
    "print(\"weather :\", s[8:])"
   ]
  },
  {
   "cell_type": "code",
   "execution_count": 88,
   "metadata": {},
   "outputs": [
    {
     "name": "stdout",
     "output_type": "stream",
     "text": [
      "일1\n",
      "일 1\n"
     ]
    }
   ],
   "source": [
    "print(\"일\" + str(1))\n",
    "print(\"일\", 1) #,대신 +를 쓸 수도 있다. 하지만 쓰면 헷갈리니까 쓰지말자."
   ]
  },
  {
   "cell_type": "code",
   "execution_count": 99,
   "metadata": {},
   "outputs": [
    {
     "data": {
      "text/plain": [
       "'현재 온도는 20입니다.'"
      ]
     },
     "execution_count": 99,
     "metadata": {},
     "output_type": "execute_result"
    }
   ],
   "source": [
    "num = 20\n",
    "s = \"현재 온도는 %d입니다.\"%num #num 대신에 그냥 숫자 써도 된다.(문자는No, %d가 숫자이니까)\n",
    "s"
   ]
  },
  {
   "cell_type": "code",
   "execution_count": 129,
   "metadata": {},
   "outputs": [
    {
     "name": "stdout",
     "output_type": "stream",
     "text": [
      "저는 6학년 2반입니다.\n",
      "저는 3학년 1반입니다.\n"
     ]
    }
   ],
   "source": [
    "h = 3\n",
    "b = 1\n",
    "s2 = \"저는 %d학년 %d반입니다.\"%(6,2)\n",
    "print(s2)\n",
    "\n",
    "s3 = \"저는 %d학년 %d반입니다.\"%(h,b)\n",
    "print(s3)\n"
   ]
  },
  {
   "cell_type": "code",
   "execution_count": 131,
   "metadata": {},
   "outputs": [
    {
     "data": {
      "text/plain": [
       "'저는 2.2학년 5반입니다.aa'"
      ]
     },
     "execution_count": 131,
     "metadata": {},
     "output_type": "execute_result"
    }
   ],
   "source": [
    "s2 = \"저는 %.1f학년 %d반입니다.%s\"%(2.2, 5,\"aa\")\n",
    "s2"
   ]
  },
  {
   "cell_type": "code",
   "execution_count": 119,
   "metadata": {},
   "outputs": [
    {
     "data": {
      "text/plain": [
       "'현재 온도는 20입니다.'"
      ]
     },
     "execution_count": 119,
     "metadata": {},
     "output_type": "execute_result"
    }
   ],
   "source": [
    "s = \"현재 온도는 {}입니다.\".format(num)\n",
    "s"
   ]
  },
  {
   "cell_type": "code",
   "execution_count": 128,
   "metadata": {},
   "outputs": [
    {
     "data": {
      "text/plain": [
       "'저는 2.2학년 5반입니다aa'"
      ]
     },
     "execution_count": 128,
     "metadata": {},
     "output_type": "execute_result"
    }
   ],
   "source": [
    "s2 = \"저는 {}학년 {}반입니다{}\".format(2.2, 5, \"aa\")\n",
    "s2"
   ]
  },
  {
   "cell_type": "markdown",
   "metadata": {},
   "source": [
    "### 숫자형과 문자형은 더하지 못한다(java는 가능함)"
   ]
  },
  {
   "cell_type": "code",
   "execution_count": 133,
   "metadata": {},
   "outputs": [
    {
     "ename": "TypeError",
     "evalue": "unsupported operand type(s) for +: 'int' and 'str'",
     "output_type": "error",
     "traceback": [
      "\u001b[1;31m---------------------------------------------------------------------------\u001b[0m",
      "\u001b[1;31mTypeError\u001b[0m                                 Traceback (most recent call last)",
      "\u001b[1;32m<ipython-input-133-0c7173f37c35>\u001b[0m in \u001b[0;36m<module>\u001b[1;34m()\u001b[0m\n\u001b[0;32m      1\u001b[0m \u001b[0mnum1\u001b[0m \u001b[1;33m=\u001b[0m \u001b[1;36m10\u001b[0m\u001b[1;33m\u001b[0m\u001b[0m\n\u001b[0;32m      2\u001b[0m \u001b[0mnum2\u001b[0m \u001b[1;33m=\u001b[0m \u001b[1;34m\"7\"\u001b[0m\u001b[1;33m\u001b[0m\u001b[0m\n\u001b[1;32m----> 3\u001b[1;33m \u001b[0mnum1\u001b[0m\u001b[1;33m+\u001b[0m\u001b[0mnum2\u001b[0m\u001b[1;31m#는 에러\u001b[0m\u001b[1;33m\u001b[0m\u001b[0m\n\u001b[0m",
      "\u001b[1;31mTypeError\u001b[0m: unsupported operand type(s) for +: 'int' and 'str'"
     ]
    }
   ],
   "source": [
    "num1 = 10\n",
    "num2 = \"7\"\n",
    "num1+num2#는 에러"
   ]
  },
  {
   "cell_type": "code",
   "execution_count": 135,
   "metadata": {},
   "outputs": [
    {
     "name": "stdout",
     "output_type": "stream",
     "text": [
      "더하기 결과 : 10\n",
      "빼기 결과 : 4\n",
      "곱하기 결과 : 21\n",
      "나누기 결과 : 2.3333333333333335\n"
     ]
    }
   ],
   "source": [
    "num1 = 7\n",
    "num2 = 3\n",
    "print(\"더하기 결과 :\", num1+num2)\n",
    "print(\"빼기 결과 :\", num1-num2)\n",
    "print(\"곱하기 결과 :\", num1*num2)\n",
    "print(\"나누기 결과 :\", num1/num2)"
   ]
  },
  {
   "cell_type": "code",
   "execution_count": 175,
   "metadata": {},
   "outputs": [
    {
     "name": "stdout",
     "output_type": "stream",
     "text": [
      "더하기 결과 :10.\n",
      "빼기 결과 :4\n"
     ]
    }
   ],
   "source": [
    "num1 = 7\n",
    "num2 = 3\n",
    "print(\"더하기 결과 :{}.\".format(num1+num2))\n",
    "print(\"빼기 결과 :%d\" %(num1-num2))\n",
    "#print(\"곱하기 결과 :\", +str(num1*num2))"
   ]
  },
  {
   "cell_type": "code",
   "execution_count": 152,
   "metadata": {},
   "outputs": [
    {
     "name": "stdout",
     "output_type": "stream",
     "text": [
      "이름을 입력하세요_sss\n",
      "당신의 이름은 sss\n"
     ]
    }
   ],
   "source": [
    "name = input(\"이름을 입력하세요_\")\n",
    "print(\"당신의 이름은 {}\".format(name))"
   ]
  },
  {
   "cell_type": "markdown",
   "metadata": {},
   "source": [
    "### Input으로 받은 정보는 문자로 인식하기 때문에 Int로 바꾸고 싶으면 강제형변환해야함"
   ]
  },
  {
   "cell_type": "code",
   "execution_count": 163,
   "metadata": {},
   "outputs": [
    {
     "name": "stdout",
     "output_type": "stream",
     "text": [
      "첫번째 정수 입력 :5\n",
      "두번째 정수 입력 :6\n"
     ]
    },
    {
     "data": {
      "text/plain": [
       "11"
      ]
     },
     "execution_count": 163,
     "metadata": {},
     "output_type": "execute_result"
    }
   ],
   "source": [
    "num1 = int(input(\"첫번째 정수 입력 :\"))\n",
    "num2 = int(input(\"두번째 정수 입력 :\"))\n",
    "num1 + num2"
   ]
  },
  {
   "cell_type": "code",
   "execution_count": 160,
   "metadata": {},
   "outputs": [
    {
     "name": "stdout",
     "output_type": "stream",
     "text": [
      "첫번째 숫자는 11, 두번째 숫자는 22\n",
      "첫번째 숫자는 11, 두번째 숫자는 22\n"
     ]
    }
   ],
   "source": [
    "#ex\n",
    "aa = 11\n",
    "bb = 22\n",
    "print(\"첫번째 숫자는 %d, 두번째 숫자는 %d\" %(aa,bb))\n",
    "print(\"첫번째 숫자는 {}, 두번째 숫자는 {}\".format(aa, bb))"
   ]
  },
  {
   "cell_type": "code",
   "execution_count": 178,
   "metadata": {},
   "outputs": [
    {
     "name": "stdout",
     "output_type": "stream",
     "text": [
      "숫자:33, 44\n",
      "숫자 33, 44\n"
     ]
    }
   ],
   "source": [
    "cc=33\n",
    "dd=44\n",
    "print(\"숫자:%d, %d\" %(cc,dd))\n",
    "print(\"숫자 {}, {}\".format(cc,dd))"
   ]
  },
  {
   "cell_type": "code",
   "execution_count": 165,
   "metadata": {},
   "outputs": [
    {
     "data": {
      "text/plain": [
       "'Java 정보입력 :'"
      ]
     },
     "execution_count": 165,
     "metadata": {},
     "output_type": "execute_result"
    }
   ],
   "source": [
    "\"\"\"Java 정보입력 :\"\"\""
   ]
  },
  {
   "cell_type": "code",
   "execution_count": 166,
   "metadata": {},
   "outputs": [
    {
     "data": {
      "text/plain": [
       "1024"
      ]
     },
     "execution_count": 166,
     "metadata": {},
     "output_type": "execute_result"
    }
   ],
   "source": [
    "2**10"
   ]
  },
  {
   "cell_type": "markdown",
   "metadata": {},
   "source": [
    "### a,b의 값을 서로 바꿀때 파이썬은 temp라는 변수없이 바로 바꿀 수 있다.\n",
    "하지만 쓰지말자 헷갈리니까"
   ]
  },
  {
   "cell_type": "code",
   "execution_count": 174,
   "metadata": {},
   "outputs": [
    {
     "data": {
      "text/plain": [
       "(20, 10)"
      ]
     },
     "execution_count": 174,
     "metadata": {},
     "output_type": "execute_result"
    }
   ],
   "source": [
    "a = 10\n",
    "b = 20\n",
    "a, b\n",
    "a,b = b,a\n",
    "a, b"
   ]
  },
  {
   "cell_type": "code",
   "execution_count": 173,
   "metadata": {},
   "outputs": [
    {
     "name": "stdout",
     "output_type": "stream",
     "text": [
      "False\n",
      "True\n"
     ]
    }
   ],
   "source": [
    "a = 3\n",
    "b = 10\n",
    "print(a==b)\n",
    "print(a<b)"
   ]
  },
  {
   "cell_type": "code",
   "execution_count": 180,
   "metadata": {},
   "outputs": [
    {
     "name": "stdout",
     "output_type": "stream",
     "text": [
      "자바 점수 입력 :20\n"
     ]
    },
    {
     "data": {
      "text/plain": [
       "20"
      ]
     },
     "execution_count": 180,
     "metadata": {},
     "output_type": "execute_result"
    }
   ],
   "source": [
    "a = int(input(\"자바 점수 입력 :\"))\n",
    "b = int(input(\"웨자바 점수 입력 :\"))"
   ]
  },
  {
   "cell_type": "code",
   "execution_count": null,
   "metadata": {
    "collapsed": true
   },
   "outputs": [],
   "source": []
  }
 ],
 "metadata": {
  "kernelspec": {
   "display_name": "Python 3",
   "language": "python",
   "name": "python3"
  },
  "language_info": {
   "codemirror_mode": {
    "name": "ipython",
    "version": 3
   },
   "file_extension": ".py",
   "mimetype": "text/x-python",
   "name": "python",
   "nbconvert_exporter": "python",
   "pygments_lexer": "ipython3",
   "version": "3.6.3"
  }
 },
 "nbformat": 4,
 "nbformat_minor": 2
}
