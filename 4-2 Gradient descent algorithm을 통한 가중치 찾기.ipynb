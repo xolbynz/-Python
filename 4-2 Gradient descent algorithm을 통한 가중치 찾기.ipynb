{
 "cells": [
  {
   "cell_type": "code",
   "execution_count": 40,
   "metadata": {
    "collapsed": true
   },
   "outputs": [],
   "source": [
    "import numpy as np \n",
    "import pandas as pd\n",
    "import matplotlib.pyplot as plt\n",
    "%matplotlib inline"
   ]
  },
  {
   "cell_type": "code",
   "execution_count": 22,
   "metadata": {},
   "outputs": [
    {
     "data": {
      "text/plain": [
       "(100,)"
      ]
     },
     "execution_count": 22,
     "metadata": {},
     "output_type": "execute_result"
    }
   ],
   "source": [
    "x=np.random.rand(100)\n",
    "x.shape"
   ]
  },
  {
   "cell_type": "code",
   "execution_count": 23,
   "metadata": {
    "collapsed": true
   },
   "outputs": [],
   "source": [
    "y=10*x+2"
   ]
  },
  {
   "cell_type": "code",
   "execution_count": 24,
   "metadata": {},
   "outputs": [
    {
     "data": {
      "text/plain": [
       "(100,)"
      ]
     },
     "execution_count": 24,
     "metadata": {},
     "output_type": "execute_result"
    }
   ],
   "source": [
    "y.shape"
   ]
  },
  {
   "cell_type": "markdown",
   "metadata": {},
   "source": [
    "#### 경사 하강법"
   ]
  },
  {
   "cell_type": "code",
   "execution_count": 25,
   "metadata": {},
   "outputs": [
    {
     "data": {
      "text/plain": [
       "(0.9600296876115463, 0.6929210411539003)"
      ]
     },
     "execution_count": 25,
     "metadata": {},
     "output_type": "execute_result"
    }
   ],
   "source": [
    "learning_rate=0.5\n",
    "num_epoch=50\n",
    "\n",
    "w=np.random.rand()\n",
    "b=np.random.rand()\n",
    "w,b"
   ]
  },
  {
   "cell_type": "code",
   "execution_count": 26,
   "metadata": {},
   "outputs": [
    {
     "name": "stdout",
     "output_type": "stream",
     "text": [
      "epoch:0,w:4.546351276247204,b:6.453726906282649,error:5.760805865128749\n",
      "epoch:1,w:4.127204669810839,b:4.686851971748835,error:1.766874934533813\n",
      "epoch:2,w:4.714970619513781,b:4.893353149767582,error:0.20650117801874657\n",
      "epoch:3,w:5.009691333350959,b:4.603778191628463,error:0.2895749581391195\n",
      "epoch:4,w:5.351150326892936,b:4.458577983254253,error:0.14520020837420972\n",
      "epoch:5,w:5.653005871853552,b:4.290351202150113,error:0.16822678110414027\n",
      "epoch:6,w:5.939492755909662,b:4.141635872791193,error:0.14871532935892007\n",
      "epoch:7,w:6.206000509389316,b:4.0004922296456815,error:0.1411436431455117\n",
      "epoch:8,w:6.455301665540777,b:3.8691917152204662,error:0.1313005144252154\n",
      "epoch:9,w:6.688147270669241,b:3.746368384108688,error:0.1228233311117782\n",
      "epoch:10,w:6.905716878844079,b:3.6316522179339885,error:0.11471616617469954\n",
      "epoch:11,w:7.108988415746614,b:3.5244620851755064,error:0.10719013275848194\n",
      "epoch:12,w:7.298907814632329,b:3.424316190675876,error:0.10014589449963024\n",
      "epoch:13,w:7.476350489243423,b:3.330748501002916,error:0.09356768967296038\n",
      "epoch:14,w:7.642136521418278,b:3.243327725609973,error:0.087420775392943\n",
      "epoch:15,w:7.7970315539245325,b:3.1616498343484127,error:0.08167789126156003\n",
      "epoch:16,w:7.941751079090643,b:3.0853376175950857,error:0.07631221675332717\n",
      "epoch:17,w:8.076963548270333,b:3.0140385733699655,error:0.07129904422512019\n",
      "epoch:18,w:8.20329351018213,b:2.947423375394676,error:0.06661519797528963\n",
      "epoch:19,w:8.321324482513184,b:2.8851843269251045,error:0.06223904846957136\n",
      "epoch:20,w:8.431601650614164,b:2.827033945996848,error:0.058150380928256425\n",
      "epoch:21,w:8.53463438482101,b:2.772703635857785,error:0.05433031013906328\n",
      "epoch:22,w:8.630898593468363,b:2.721942444757849,error:0.05076119109993602\n",
      "epoch:23,w:8.720838921050674,b:2.6745159066886717,error:0.04742653806917738\n",
      "epoch:24,w:8.80487080205127,b:2.6302049584143976,error:0.044310948274274044\n",
      "epoch:25,w:8.883382379830678,b:2.5888049276106453,error:0.041400030803752534\n",
      "epoch:26,w:8.956736299462348,b:2.5501245874847855,error:0.03868034012585959\n",
      "epoch:27,w:9.025271382790399,b:2.513985273498638,error:0.036139313986147614\n",
      "epoch:28,w:9.08930419344821,b:2.4802200581168834,error:0.033765215381754594\n",
      "epoch:29,w:9.149130499066214,b:2.448672979768542,error:0.031547078348341584\n",
      "epoch:30,w:9.205026637422932,b:2.4191983224602933,error:0.029474657308248723\n",
      "epoch:31,w:9.257250792849526,b:2.391659942714128,error:0.027538379746165447\n",
      "epoch:32,w:9.306044188783524,b:2.365930640720452,error:0.025729301993675763\n",
      "epoch:33,w:9.351632201980184,b:2.3418915728020164,error:0.02403906791843565\n",
      "epoch:34,w:9.394225403527994,b:2.3194317024748217,error:0.022459870327194945\n",
      "epoch:35,w:9.434020531476785,b:2.298447287570468,error:0.020984414904353835\n",
      "epoch:36,w:9.47120139957103,b:2.2788414010509506,error:0.019605886519517036\n",
      "epoch:37,w:9.505939746285748,b:2.2605234833025536,error:0.018317917748396927\n",
      "epoch:38,w:9.538396028086728,b:2.2434089238408825,error:0.017114559461671282\n",
      "epoch:39,w:9.568720160579147,b:2.2274186704949366,error:0.015990253345945938\n",
      "epoch:40,w:9.597052210967925,b:2.212478864265033,error:0.014939806229903728\n",
      "epoch:41,w:9.623523045028323,b:2.1985204981679964,error:0.013958366097036302\n",
      "epoch:42,w:9.648254931575106,b:2.1854790984938215,error:0.013041399674174978\n",
      "epoch:43,w:9.671362107222365,b:2.1732944270015278,error:0.012184671492293665\n",
      "epoch:44,w:9.692951304042557,b:2.161910202678649,error:0.01138422432287848\n",
      "epoch:45,w:9.713122242562097,b:2.151273841779172,error:0.010636360899477233\n",
      "--------------------------------------------------------------------------------\n",
      "epoch:46,w:9.713122242562097,b:2.151273841779172,error:0.009937626840027884\n"
     ]
    }
   ],
   "source": [
    "w_b_list=[[w,b]]\n",
    "mse_list=[]\n",
    "epoch_list=[]\n",
    "w_list=[]\n",
    "\n",
    "for epoch in range(num_epoch):\n",
    "    y_pred = w*x+b\n",
    "    mse=np.mean((y-y_pred)**2)\n",
    "    mse_list.append(mse)\n",
    "    epoch_list.append(epoch)\n",
    "    w_list.append(w)\n",
    "    \n",
    "    error=np.abs((y-y_pred).mean())\n",
    "    if error < 0.01:\n",
    "        break\n",
    "    w =  w- learning_rate*(2*(y_pred-y)*x).mean()\n",
    "    b= b-learning_rate*(2*(y_pred-y)).mean()\n",
    "    print('epoch:{},w:{},b:{},error:{}'.format(epoch,w,b,error))\n",
    "    \n",
    "    if epoch%10==0:\n",
    "        w_b_list.append([w,b])\n",
    "        \n",
    "    \n",
    "print('-'*80)\n",
    "print('epoch:{},w:{},b:{},error:{}'.format(epoch,w,b,error))"
   ]
  },
  {
   "cell_type": "code",
   "execution_count": 27,
   "metadata": {},
   "outputs": [
    {
     "data": {
      "text/plain": [
       "[<matplotlib.lines.Line2D at 0x1b70c128>]"
      ]
     },
     "execution_count": 27,
     "metadata": {},
     "output_type": "execute_result"
    },
    {
     "data": {
      "image/png": "[encoded data removed]",
      "text/plain": [
       "<matplotlib.figure.Figure at 0x1b5f1940>"
      ]
     },
     "metadata": {},
     "output_type": "display_data"
    }
   ],
   "source": [
    "plt.plot(epoch_list,w_list)"
   ]
  },
  {
   "cell_type": "code",
   "execution_count": 28,
   "metadata": {},
   "outputs": [
    {
     "data": {
      "text/plain": [
       "[<matplotlib.lines.Line2D at 0x1b7600f0>]"
      ]
     },
     "execution_count": 28,
     "metadata": {},
     "output_type": "execute_result"
    },
    {
     "data": {
      "image/png": "[encoded data removed]",
      "text/plain": [
       "<matplotlib.figure.Figure at 0x1b725828>"
      ]
     },
     "metadata": {},
     "output_type": "display_data"
    }
   ],
   "source": [
    "plt.plot(epoch_list,mse_list)"
   ]
  },
  {
   "cell_type": "markdown",
   "metadata": {},
   "source": [
    "## 학습률 조정"
   ]
  },
  {
   "cell_type": "code",
   "execution_count": 29,
   "metadata": {},
   "outputs": [
    {
     "data": {
      "text/plain": [
       "(0.9599321655855141, 0.0930799338239483)"
      ]
     },
     "execution_count": 29,
     "metadata": {},
     "output_type": "execute_result"
    }
   ],
   "source": [
    "learning_rate=1\n",
    "num_epoch=50\n",
    "\n",
    "w=np.random.rand()\n",
    "b=np.random.rand()\n",
    "w,b\n"
   ]
  },
  {
   "cell_type": "code",
   "execution_count": 30,
   "metadata": {},
   "outputs": [
    {
     "name": "stdout",
     "output_type": "stream",
     "text": [
      "epoch:0,w:8.723686891239343,b:12.814469971196583,error:6.360695018686317\n",
      "epoch:1,w:-1.1014162366601532,b:-7.556866276295349,error:10.185668123745966\n",
      "epoch:2,w:15.542014800945644,b:22.495547374240928,error:15.026206825268138\n",
      "epoch:3,w:-8.260759450331243,b:-23.95632204076015,error:23.22593470750054\n",
      "epoch:4,w:29.20222647464,b:45.94939787678191,error:34.95285995877103\n",
      "epoch:5,w:-26.602939834705367,b:-60.870139816263254,error:53.40976884652258\n",
      "epoch:6,w:59.1729046967814,b:100.93651887670526,error:80.90332934648426\n",
      "epoch:7,w:-70.32325901712345,b:-145.388600275248,error:123.16255957597663\n",
      "epoch:8,w:127.19258984549789,b:228.53440441458804,error:186.96150234491802\n",
      "epoch:9,w:-172.3095954864844,b:-340.0090735949867,error:284.2717390047874\n",
      "epoch:10,w:283.36355946375625,b:523.6462012919543,error:431.8276374434705\n",
      "epoch:11,w:-408.5865796374311,b:-789.0025371888704,error:656.3243692404124\n",
      "epoch:12,w:643.306843785269,b:1205.4530758339451,error:997.2278065114077\n",
      "epoch:13,w:-954.7668854092777,b:-1825.4763043691214,error:1515.4646901015333\n",
      "epoch:14,w:1473.9521774109653,b:2780.1007173607045,error:2302.788510864913\n",
      "epoch:15,w:-2216.4094173195012,b:-4218.59288862617,error:3499.346802993437\n",
      "epoch:16,w:3391.633617562675,b:6416.365474964914,error:5317.479181795542\n",
      "epoch:17,w:-5130.0367168880075,b:-9744.427884304747,error:8080.39667963483\n",
      "epoch:18,w:7819.514313197507,b:14813.117044602768,error:12278.772464453757\n",
      "epoch:19,w:-11858.225330559735,b:-22504.15205462319,error:18658.63454961298\n",
      "epoch:20,w:18043.836122161672,b:34202.40162801004,error:28353.276841316616\n",
      "epoch:21,w:-27394.66015973161,b:-51967.880594261784,error:43085.14111113591\n",
      "epoch:22,w:41652.93269917172,b:78974.81712905696,error:65471.34886165937\n",
      "epoch:23,w:-63270.411057701385,b:-120003.30803550477,error:99489.06258228087\n",
      "epoch:24,w:96169.22006577306,b:182360.09452244337,error:151181.70127897407\n",
      "epoch:25,w:-146112.19890974672,b:-277105.7211018995,error:229732.90781217144\n",
      "epoch:26,w:222054.17933581898,b:421089.9215673099,error:349097.8213346047\n",
      "epoch:27,w:-337404.5233078302,b:-639875.1657169631,error:530482.5436421365\n",
      "epoch:28,w:512738.5179553478,b:972347.5453901207,error:806111.3555535419\n",
      "epoch:29,w:-779122.9338695406,b:-1477556.0001051007,error:1224951.7727476107\n",
      "epoch:30,w:1183965.6374491537,b:2245271.660925564,error:1861413.8305153323\n",
      "epoch:31,w:-1799107.0682189297,b:-3411867.7483453494,error:2828569.7046354567\n",
      "epoch:32,w:2733914.5348170754,b:5184615.644041164,error:4298241.696193256\n",
      "epoch:33,w:-4154380.4223080166,b:-7878440.000808394,error:6531527.822424779\n",
      "epoch:34,w:6312943.982246287,b:11971935.40922157,error:9925187.705014981\n",
      "epoch:35,w:-9593006.70095368,b:-18192324.38900511,error:15082129.899113338\n",
      "epoch:36,w:14577378.945693465,b:27644721.50912542,error:22918522.949065264\n",
      "epoch:37,w:-22151487.715712227,b:-42008397.48875371,error:34826559.49893957\n",
      "epoch:38,w:33661012.20330295,b:63835181.44083523,error:52921789.46479447\n",
      "epoch:39,w:-51150620.428419605,b:-97002744.59530747,error:80418963.01807135\n",
      "epoch:40,w:77727552.76469438,b:147403564.336965,error:122203154.46613623\n",
      "epoch:41,w:-118113312.55709977,b:-223991698.70639095,error:185697631.52167797\n",
      "epoch:42,w:179482809.28339708,b:340373607.62085736,error:282182653.16362417\n",
      "epoch:43,w:-272738700.18613076,b:-517225372.98738587,error:428799490.3041216\n",
      "epoch:44,w:414448660.8786298,b:785966023.2428621,error:651595698.115124\n",
      "epoch:45,w:-629788420.5377303,b:-1194339286.8322787,error:990152655.0375704\n",
      "epoch:46,w:957014748.42914,b:1814895682.3743052,error:1504617484.603292\n",
      "epoch:47,w:-1454261715.3595,b:-2757881582.7438903,error:2286388632.559098\n",
      "epoch:48,w:2209868971.1314034,b:4190825357.838947,error:3474353470.2914186\n",
      "epoch:49,w:-3358075596.524774,b:-6368299949.759254,error:5279562653.799101\n",
      "--------------------------------------------------------------------------------\n",
      "epoch:49,w:-3358075596.524774,b:-6368299949.759254,error:5279562653.799101\n"
     ]
    }
   ],
   "source": [
    "w_b_list=[[w,b]]\n",
    "mse_list=[]\n",
    "epoch_list=[]\n",
    "w_list=[]\n",
    "\n",
    "for epoch in range(num_epoch):\n",
    "    y_pred = w*x+b\n",
    "    mse=np.mean((y-y_pred)**2)\n",
    "    mse_list.append(mse)\n",
    "    epoch_list.append(epoch)\n",
    "    w_list.append(w)\n",
    "    \n",
    "    error=np.abs((y-y_pred).mean())\n",
    "    if error < 0.01:\n",
    "        break\n",
    "    w =  w- learning_rate*(2*(y_pred-y)*x).mean()\n",
    "    b= b-learning_rate*(2*(y_pred-y)).mean()\n",
    "    print('epoch:{},w:{},b:{},error:{}'.format(epoch,w,b,error))\n",
    "    \n",
    "    if epoch%10==0:\n",
    "        w_b_list.append([w,b])\n",
    "        \n",
    "    \n",
    "print('-'*80)\n",
    "print('epoch:{},w:{},b:{},error:{}'.format(epoch,w,b,error))"
   ]
  },
  {
   "cell_type": "code",
   "execution_count": 31,
   "metadata": {
    "scrolled": false
   },
   "outputs": [
    {
     "data": {
      "text/plain": [
       "[<matplotlib.lines.Line2D at 0x1b7cb0b8>]"
      ]
     },
     "execution_count": 31,
     "metadata": {},
     "output_type": "execute_result"
    },
    {
     "data": {
      "image/png": "[encoded data removed]",
      "text/plain": [
       "<matplotlib.figure.Figure at 0x1b725978>"
      ]
     },
     "metadata": {},
     "output_type": "display_data"
    }
   ],
   "source": [
    "plt.plot(epoch_list,w_list)"
   ]
  },
  {
   "cell_type": "code",
   "execution_count": 32,
   "metadata": {},
   "outputs": [
    {
     "data": {
      "text/plain": [
       "[<matplotlib.lines.Line2D at 0x1b827940>]"
      ]
     },
     "execution_count": 32,
     "metadata": {},
     "output_type": "execute_result"
    },
    {
     "data": {
      "image/png": "[encoded data removed]",
      "text/plain": [
       "<matplotlib.figure.Figure at 0x1b7df390>"
      ]
     },
     "metadata": {},
     "output_type": "display_data"
    }
   ],
   "source": [
    "plt.plot(epoch_list,mse_list)"
   ]
  },
  {
   "cell_type": "code",
   "execution_count": null,
   "metadata": {
    "collapsed": true
   },
   "outputs": [],
   "source": [
    "plt.figure(figsize=(12,12))\n",
    "plt.scatter(x,y, marker='o')\n",
    "for w_b in w_b_list:\n",
    "    XX=np.linspace(0,1,200)\n",
    "    plt.scatter(XX,w_b[0]*XX+w_b[1],marker='.',label=w_b)"
   ]
  },
  {
   "cell_type": "code",
   "execution_count": 33,
   "metadata": {
    "scrolled": true
   },
   "outputs": [
    {
     "data": {
      "text/plain": [
       "<matplotlib.legend.Legend at 0x1bacb940>"
      ]
     },
     "execution_count": 33,
     "metadata": {},
     "output_type": "execute_result"
    },
    {
     "data": {
      "image/png": "[encoded data removed]",
      "text/plain": [
       "<matplotlib.figure.Figure at 0x1b84aa90>"
      ]
     },
     "metadata": {},
     "output_type": "display_data"
    }
   ],
   "source": []
  },
  {
   "cell_type": "code",
   "execution_count": 34,
   "metadata": {
    "collapsed": true
   },
   "outputs": [],
   "source": [
    "from sklearn.linear_model import LinearRegression"
   ]
  },
  {
   "cell_type": "code",
   "execution_count": 35,
   "metadata": {
    "collapsed": true
   },
   "outputs": [],
   "source": [
    "model = LinearRegression()"
   ]
  },
  {
   "cell_type": "code",
   "execution_count": 42,
   "metadata": {
    "scrolled": true
   },
   "outputs": [
    {
     "data": {
      "text/plain": [
       "LinearRegression(copy_X=True, fit_intercept=True, n_jobs=1, normalize=False)"
      ]
     },
     "execution_count": 42,
     "metadata": {},
     "output_type": "execute_result"
    }
   ],
   "source": [
    "model.fit(x.reshape(-1,1),y)"
   ]
  },
  {
   "cell_type": "code",
   "execution_count": 43,
   "metadata": {},
   "outputs": [
    {
     "data": {
      "text/plain": [
       "array([10.])"
      ]
     },
     "execution_count": 43,
     "metadata": {},
     "output_type": "execute_result"
    }
   ],
   "source": [
    "model.coef_"
   ]
  },
  {
   "cell_type": "code",
   "execution_count": 44,
   "metadata": {},
   "outputs": [
    {
     "data": {
      "text/plain": [
       "1.9999999999999991"
      ]
     },
     "execution_count": 44,
     "metadata": {},
     "output_type": "execute_result"
    }
   ],
   "source": [
    "model.intercept_"
   ]
  },
  {
   "cell_type": "markdown",
   "metadata": {},
   "source": [
    "### y=10x+1.9999"
   ]
  },
  {
   "cell_type": "code",
   "execution_count": 45,
   "metadata": {},
   "outputs": [
    {
     "data": {
      "text/plain": [
       "array([22.])"
      ]
     },
     "execution_count": 45,
     "metadata": {},
     "output_type": "execute_result"
    }
   ],
   "source": [
    "model.predict([[2]])"
   ]
  },
  {
   "cell_type": "code",
   "execution_count": 46,
   "metadata": {
    "collapsed": true
   },
   "outputs": [],
   "source": []
  },
  {
   "cell_type": "code",
   "execution_count": 48,
   "metadata": {},
   "outputs": [],
   "source": [
    "Lasso"
   ]
  },
  {
   "cell_type": "code",
   "execution_count": null,
   "metadata": {
    "collapsed": true
   },
   "outputs": [],
   "source": []
  }
 ],
 "metadata": {
  "kernelspec": {
   "display_name": "Python 3",
   "language": "python",
   "name": "python3"
  },
  "language_info": {
   "codemirror_mode": {
    "name": "ipython",
    "version": 3
   },
   "file_extension": ".py",
   "mimetype": "text/x-python",
   "name": "python",
   "nbconvert_exporter": "python",
   "pygments_lexer": "ipython3",
   "version": "3.6.3"
  }
 },
 "nbformat": 4,
 "nbformat_minor": 2
}
